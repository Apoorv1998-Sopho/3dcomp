{
 "cells": [
  {
   "cell_type": "code",
   "execution_count": 1,
   "metadata": {},
   "outputs": [],
   "source": [
    "import cv2\n",
    "import numpy as np\n",
    "import matplotlib.pyplot as plt\n",
    "import math"
   ]
  },
  {
   "cell_type": "code",
   "execution_count": 2,
   "metadata": {},
   "outputs": [],
   "source": [
    "# installed opencv 3 correctly,... whooohoooo"
   ]
  },
  {
   "cell_type": "code",
   "execution_count": 40,
   "metadata": {},
   "outputs": [],
   "source": [
    "def padd(target, padding):\n",
    "    #image size\n",
    "    n, m = target.shape # n x m\n",
    "    newTarget = np.zeros((target.shape[0] + 2*padding, target.shape[1] + 2*padding))\n",
    "    newTarget[padding:n + padding, padding:m + padding] = target\n",
    "    return newTarget\n",
    "    \n",
    "def covolv(target, filtr):\n",
    "    #assuming the filter is odd x odd\n",
    "    padding = int(int(filtr.shape[0])/2)\n",
    "    filterSize = filtr.shape[0]\n",
    "    filtr = filtr.T\n",
    "    padTarget = padd(target, padding)\n",
    "    NewTarget = padd(target, padding)\n",
    "    \n",
    "    n, m = target.shape # n x m\n",
    "    for i in range(padding, n + padding):\n",
    "        for j in range(padding, m + padding):\n",
    "            s = 0\n",
    "            for l in range(filterSize):\n",
    "                for k in range(filterSize):\n",
    "                    s += filtr[l, k] * padTarget[i + l - padding, j + k - padding]\n",
    "            NewTarget[i,j] = s\n",
    "    return NewTarget[padding:n + padding, padding:m + padding]\n",
    "\n",
    "def gaussian_eq(dim, std):\n",
    "    filtr = np.zeros((std, std))\n",
    "    for x in range(dim):\n",
    "        for y in range(dim):\n",
    "                g = 1./(2*math.pi*std**2) * math.exp(-(x**2 + y**2)/(2*std**2))\n",
    "                filtr[]"
   ]
  },
  {
   "cell_type": "code",
   "execution_count": 41,
   "metadata": {},
   "outputs": [
    {
     "data": {
      "text/plain": [
       "array([[1., 1.]])"
      ]
     },
     "execution_count": 41,
     "metadata": {},
     "output_type": "execute_result"
    }
   ],
   "source": [
    "P = np.array([[2.789227 , 0.751901],\n",
    "              [0.751901 , 2.313755],\n",
    "              [2.789227 , 0.751901],\n",
    "              [2.789227 , 4.751901]])\n",
    "f = np.array([[1. , 1., 1.],\n",
    "              [1. , 1., 1.],\n",
    "              [1. , 1., 1.]])  * 1./9\n",
    "\n",
    "r = np.array([[2.789227]])\n",
    "\n",
    "Po = np.array([[3 , 6]])\n",
    "\n",
    "\n",
    "c = covolv(Po, f)\n",
    "\n",
    "c\n"
   ]
  },
  {
   "cell_type": "code",
   "execution_count": 33,
   "metadata": {},
   "outputs": [
    {
     "data": {
      "text/plain": [
       "array([4.5])"
      ]
     },
     "execution_count": 33,
     "metadata": {},
     "output_type": "execute_result"
    }
   ],
   "source": [
    "np.sum(Po, axis=1)/2"
   ]
  },
  {
   "cell_type": "code",
   "execution_count": null,
   "metadata": {},
   "outputs": [],
   "source": [
    "   \n",
    "    \n",
    "#     for i in range(n):\n",
    "         \n",
    "# Ref - https://github.com/rlabbe/filterpy/blob/master/filterpy/common/helpers.py#L309\n",
    "def reshape_z(z, dim_z):\n",
    "    # ensure z is a (dim_z, 1) or (1, dim_z) shaped vector\n",
    "    z = np.atleast_2d(z)\n",
    "    if ((z.shape != (dim_z, 1)) or (z.shape != (1, dim_z))):\n",
    "        raise ValueError('z must be convertible to shape ({}, 1)'.format(dim_z))\n",
    "    return z\n",
    "\n",
    "def colVct(vector):\n",
    "    if vector.shape[0] == 1:\n",
    "        return False\n",
    "    else:\n",
    "        return True\n",
    "    \n",
    "def sameOrientation(*argv):\n",
    "    if len(argv) < 2:\n",
    "        raise ValueError(\"Provide atleast 2 vectors to compare\")\n",
    "    flagChanged = False\n",
    "    colVectors = colsVct(argv[0])\n",
    "    for arg in argv:\n",
    "        if colsVct != colsVct(arg):\n",
    "            flagChanged = True\n",
    "            break\n",
    "            \n",
    "    return (not flagChanged)\n",
    "\n",
    "def vectLen(vector):\n",
    "    if (colVct(vector)):\n",
    "        return vector.shape[0]\n",
    "    else:\n",
    "        return vector.shape[1]\n",
    "\n",
    "# def gaussianFilter(dim, std):\n",
    "#     z = np.zeros([1,1])\n",
    "#     f = np.array[[1,1]]\n",
    "    \n",
    "#     if (dim <= 0):\n",
    "#         raise ValueError(\"dim > 0\")\n",
    "        \n",
    "#     elif (dim == 1):\n",
    "#         return [[1]]\n",
    "        \n",
    "#     elif (dim == 2):\n",
    "#         return [[1,1]]\n",
    "    \n",
    "#     else: # dim > 2\n",
    "#     for i in range(dim - 2):\n",
    "#         z = convolv1D(z, f)\n",
    "#     return z\n",
    "\n",
    "# def convolv1D(target, filtr, trim=True):\n",
    "#     filtr = reshape_z(filtr)\n",
    "#     target = reshape_z(target)\n",
    "#     if colVct(vector):\n",
    "#         col = True\n",
    "#         filtr = np.flip(filtr, axis=1)\n",
    "#     else:\n",
    "#         filtr = np.flip(filtr, axis=0)\n",
    "\n",
    "#     if (trim):\n",
    "#         pass\n",
    "#     else:\n",
    "#         pass\n"
   ]
  }
 ],
 "metadata": {
  "kernelspec": {
   "display_name": "Python 3",
   "language": "python",
   "name": "python3"
  },
  "language_info": {
   "codemirror_mode": {
    "name": "ipython",
    "version": 3
   },
   "file_extension": ".py",
   "mimetype": "text/x-python",
   "name": "python",
   "nbconvert_exporter": "python",
   "pygments_lexer": "ipython3",
   "version": "3.7.0"
  }
 },
 "nbformat": 4,
 "nbformat_minor": 2
}
