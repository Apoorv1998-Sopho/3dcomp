{
 "cells": [
  {
   "cell_type": "code",
   "execution_count": 1,
   "metadata": {},
   "outputs": [],
   "source": [
    "import cv2 as cv\n",
    "import numpy as np\n",
    "import math\n",
    "from scipy.signal import convolve2d\n",
    "from helper import *"
   ]
  },
  {
   "cell_type": "markdown",
   "metadata": {},
   "source": [
    "------"
   ]
  },
  {
   "cell_type": "markdown",
   "metadata": {},
   "source": [
    "# Q1\n",
    "### Part (a)\n",
    "Design a Gaussian filter kernel of size 9x9 and standard deviations of 1, 3, and 20. Report their values in a matrix form (format of values x.xxxex, for eg: 1.234e-05)."
   ]
  },
  {
   "cell_type": "code",
   "execution_count": 2,
   "metadata": {},
   "outputs": [],
   "source": [
    "g1 = gaussian_eq(9, 1)\n",
    "g3 = gaussian_eq(9, 3)\n",
    "g20 = gaussian_eq(9, 20)"
   ]
  },
  {
   "cell_type": "code",
   "execution_count": 3,
   "metadata": {
    "scrolled": true
   },
   "outputs": [
    {
     "name": "stdout",
     "output_type": "stream",
     "text": [
      "1.791e-08 | 5.931e-07 | 7.226e-06 | 3.238e-05 | 5.339e-05 | 3.238e-05 | 7.226e-06 | 5.931e-07 | 1.791e-08\n",
      "5.931e-07 | 1.964e-05 | 2.393e-04 | 1.072e-03 | 1.768e-03 | 1.072e-03 | 2.393e-04 | 1.964e-05 | 5.931e-07\n",
      "7.226e-06 | 2.393e-04 | 2.915e-03 | 1.306e-02 | 2.154e-02 | 1.306e-02 | 2.915e-03 | 2.393e-04 | 7.226e-06\n",
      "3.238e-05 | 1.072e-03 | 1.306e-02 | 5.855e-02 | 9.653e-02 | 5.855e-02 | 1.306e-02 | 1.072e-03 | 3.238e-05\n",
      "5.339e-05 | 1.768e-03 | 2.154e-02 | 9.653e-02 | 1.592e-01 | 9.653e-02 | 2.154e-02 | 1.768e-03 | 5.339e-05\n",
      "3.238e-05 | 1.072e-03 | 1.306e-02 | 5.855e-02 | 9.653e-02 | 5.855e-02 | 1.306e-02 | 1.072e-03 | 3.238e-05\n",
      "7.226e-06 | 2.393e-04 | 2.915e-03 | 1.306e-02 | 2.154e-02 | 1.306e-02 | 2.915e-03 | 2.393e-04 | 7.226e-06\n",
      "5.931e-07 | 1.964e-05 | 2.393e-04 | 1.072e-03 | 1.768e-03 | 1.072e-03 | 2.393e-04 | 1.964e-05 | 5.931e-07\n",
      "1.791e-08 | 5.931e-07 | 7.226e-06 | 3.238e-05 | 5.339e-05 | 3.238e-05 | 7.226e-06 | 5.931e-07 | 1.791e-08\n"
     ]
    }
   ],
   "source": [
    "prettyPrint(g1)"
   ]
  },
  {
   "cell_type": "markdown",
   "metadata": {},
   "source": [
    "* Gaussian filter (9 x 9) | Standard Deviation = 1 ↑"
   ]
  },
  {
   "cell_type": "code",
   "execution_count": 4,
   "metadata": {},
   "outputs": [
    {
     "name": "stdout",
     "output_type": "stream",
     "text": [
      "3.965e-03 | 5.850e-03 | 7.723e-03 | 9.124e-03 | 9.645e-03 | 9.124e-03 | 7.723e-03 | 5.850e-03 | 3.965e-03\n",
      "5.850e-03 | 8.631e-03 | 1.139e-02 | 1.346e-02 | 1.423e-02 | 1.346e-02 | 1.139e-02 | 8.631e-03 | 5.850e-03\n",
      "7.723e-03 | 1.139e-02 | 1.504e-02 | 1.777e-02 | 1.879e-02 | 1.777e-02 | 1.504e-02 | 1.139e-02 | 7.723e-03\n",
      "9.124e-03 | 1.346e-02 | 1.777e-02 | 2.099e-02 | 2.219e-02 | 2.099e-02 | 1.777e-02 | 1.346e-02 | 9.124e-03\n",
      "9.645e-03 | 1.423e-02 | 1.879e-02 | 2.219e-02 | 2.346e-02 | 2.219e-02 | 1.879e-02 | 1.423e-02 | 9.645e-03\n",
      "9.124e-03 | 1.346e-02 | 1.777e-02 | 2.099e-02 | 2.219e-02 | 2.099e-02 | 1.777e-02 | 1.346e-02 | 9.124e-03\n",
      "7.723e-03 | 1.139e-02 | 1.504e-02 | 1.777e-02 | 1.879e-02 | 1.777e-02 | 1.504e-02 | 1.139e-02 | 7.723e-03\n",
      "5.850e-03 | 8.631e-03 | 1.139e-02 | 1.346e-02 | 1.423e-02 | 1.346e-02 | 1.139e-02 | 8.631e-03 | 5.850e-03\n",
      "3.965e-03 | 5.850e-03 | 7.723e-03 | 9.124e-03 | 9.645e-03 | 9.124e-03 | 7.723e-03 | 5.850e-03 | 3.965e-03\n"
     ]
    }
   ],
   "source": [
    "prettyPrint(g3)"
   ]
  },
  {
   "cell_type": "markdown",
   "metadata": {},
   "source": [
    "* Gaussian filter (9 x 9) | Standard Deviation = 3 ↑"
   ]
  },
  {
   "cell_type": "code",
   "execution_count": 5,
   "metadata": {
    "scrolled": false
   },
   "outputs": [
    {
     "name": "stdout",
     "output_type": "stream",
     "text": [
      "1.206e-02 | 1.217e-02 | 1.224e-02 | 1.229e-02 | 1.230e-02 | 1.229e-02 | 1.224e-02 | 1.217e-02 | 1.206e-02\n",
      "1.217e-02 | 1.227e-02 | 1.235e-02 | 1.240e-02 | 1.241e-02 | 1.240e-02 | 1.235e-02 | 1.227e-02 | 1.217e-02\n",
      "1.224e-02 | 1.235e-02 | 1.243e-02 | 1.247e-02 | 1.249e-02 | 1.247e-02 | 1.243e-02 | 1.235e-02 | 1.224e-02\n",
      "1.229e-02 | 1.240e-02 | 1.247e-02 | 1.252e-02 | 1.254e-02 | 1.252e-02 | 1.247e-02 | 1.240e-02 | 1.229e-02\n",
      "1.230e-02 | 1.241e-02 | 1.249e-02 | 1.254e-02 | 1.255e-02 | 1.254e-02 | 1.249e-02 | 1.241e-02 | 1.230e-02\n",
      "1.229e-02 | 1.240e-02 | 1.247e-02 | 1.252e-02 | 1.254e-02 | 1.252e-02 | 1.247e-02 | 1.240e-02 | 1.229e-02\n",
      "1.224e-02 | 1.235e-02 | 1.243e-02 | 1.247e-02 | 1.249e-02 | 1.247e-02 | 1.243e-02 | 1.235e-02 | 1.224e-02\n",
      "1.217e-02 | 1.227e-02 | 1.235e-02 | 1.240e-02 | 1.241e-02 | 1.240e-02 | 1.235e-02 | 1.227e-02 | 1.217e-02\n",
      "1.206e-02 | 1.217e-02 | 1.224e-02 | 1.229e-02 | 1.230e-02 | 1.229e-02 | 1.224e-02 | 1.217e-02 | 1.206e-02\n"
     ]
    }
   ],
   "source": [
    "prettyPrint(g20)"
   ]
  },
  {
   "cell_type": "markdown",
   "metadata": {},
   "source": [
    "* Gaussian filter (9 x 9) | Standard Deviation = 20 ↑\n",
    "-----"
   ]
  },
  {
   "cell_type": "markdown",
   "metadata": {},
   "source": [
    "### Part (b)\n",
    "Perform Gaussian filtering on an image with the kernel designed in part 1(a) and compare the results obtained using different standard deviations on the same image."
   ]
  },
  {
   "cell_type": "code",
   "execution_count": 6,
   "metadata": {
    "scrolled": true
   },
   "outputs": [
    {
     "data": {
      "text/plain": [
       "array([[14, 28],\n",
       "       [60, 26],\n",
       "       [54, 46]], dtype=uint8)"
      ]
     },
     "execution_count": 6,
     "metadata": {},
     "output_type": "execute_result"
    }
   ],
   "source": [
    "P = np.array([[2. , 0.],\n",
    "              [0. , 2.],\n",
    "              [2. , 8.]])\n",
    "f = np.array([[1,3,5],\n",
    "              [12,2,5],\n",
    "              [2,2,5]])\n",
    "covolv(P, f)"
   ]
  },
  {
   "cell_type": "code",
   "execution_count": 9,
   "metadata": {},
   "outputs": [],
   "source": [
    "# read img and convert to grey (resized)\n",
    "I1 = readImg_Grey_Resize(file='imgs/3_1.jpg', scale=.3)"
   ]
  },
  {
   "cell_type": "code",
   "execution_count": null,
   "metadata": {
    "scrolled": true
   },
   "outputs": [],
   "source": [
    "# apply the 3 gaussian filters to the image\n",
    "I_gaussed1 = covolv(I1, g1)\n",
    "I_gaussed2 = covolv(I1, g3)\n",
    "I_gaussed3 = covolv(I1, g20)"
   ]
  },
  {
   "cell_type": "code",
   "execution_count": 14,
   "metadata": {},
   "outputs": [
    {
     "ename": "NameError",
     "evalue": "name 'I_gaussed2' is not defined",
     "output_type": "error",
     "traceback": [
      "\u001b[1;31m---------------------------------------------------------------------------\u001b[0m",
      "\u001b[1;31mNameError\u001b[0m                                 Traceback (most recent call last)",
      "\u001b[1;32m<ipython-input-14-db2309548795>\u001b[0m in \u001b[0;36m<module>\u001b[1;34m()\u001b[0m\n\u001b[0;32m      4\u001b[0m \u001b[0mcv\u001b[0m\u001b[1;33m.\u001b[0m\u001b[0mnamedWindow\u001b[0m\u001b[1;33m(\u001b[0m\u001b[1;34m'gaussed_20'\u001b[0m\u001b[1;33m,\u001b[0m \u001b[0mcv\u001b[0m\u001b[1;33m.\u001b[0m\u001b[0mWINDOW_NORMAL\u001b[0m\u001b[1;33m)\u001b[0m\u001b[1;33m\u001b[0m\u001b[0m\n\u001b[0;32m      5\u001b[0m \u001b[0mcv\u001b[0m\u001b[1;33m.\u001b[0m\u001b[0mimshow\u001b[0m\u001b[1;33m(\u001b[0m\u001b[1;34m'gaussed_1'\u001b[0m\u001b[1;33m,\u001b[0m\u001b[0mI_gaussed1\u001b[0m\u001b[1;33m)\u001b[0m\u001b[1;33m\u001b[0m\u001b[0m\n\u001b[1;32m----> 6\u001b[1;33m \u001b[0mcv\u001b[0m\u001b[1;33m.\u001b[0m\u001b[0mimshow\u001b[0m\u001b[1;33m(\u001b[0m\u001b[1;34m'gaussed_3'\u001b[0m\u001b[1;33m,\u001b[0m\u001b[0mI_gaussed2\u001b[0m\u001b[1;33m)\u001b[0m\u001b[1;33m\u001b[0m\u001b[0m\n\u001b[0m\u001b[0;32m      7\u001b[0m \u001b[0mcv\u001b[0m\u001b[1;33m.\u001b[0m\u001b[0mimshow\u001b[0m\u001b[1;33m(\u001b[0m\u001b[1;34m'gaussed_20'\u001b[0m\u001b[1;33m,\u001b[0m\u001b[0mI_gaussed20\u001b[0m\u001b[1;33m)\u001b[0m\u001b[1;33m\u001b[0m\u001b[0m\n\u001b[0;32m      8\u001b[0m \u001b[0mcv\u001b[0m\u001b[1;33m.\u001b[0m\u001b[0mwaitKey\u001b[0m\u001b[1;33m(\u001b[0m\u001b[1;36m0\u001b[0m\u001b[1;33m)\u001b[0m\u001b[1;33m\u001b[0m\u001b[0m\n",
      "\u001b[1;31mNameError\u001b[0m: name 'I_gaussed2' is not defined"
     ]
    }
   ],
   "source": [
    "# show result\n",
    "cv.namedWindow('gaussed_1', cv.WINDOW_NORMAL)\n",
    "cv.namedWindow('gaussed_3', cv.WINDOW_NORMAL)\n",
    "cv.namedWindow('gaussed_20', cv.WINDOW_NORMAL)\n",
    "cv.imshow('gaussed_1',I_gaussed1)\n",
    "cv.imshow('gaussed_3',I_gaussed2)\n",
    "cv.imshow('gaussed_20',I_gaussed20)\n",
    "cv.waitKey(0)\n",
    "cv.destroyAllWindows()"
   ]
  },
  {
   "cell_type": "code",
   "execution_count": 10,
   "metadata": {},
   "outputs": [],
   "source": [
    "# Ref - https://github.com/rlabbe/filterpy/blob/master/filterpy/common/helpers.py#L309\n",
    "def reshape_z(z, dim_z):\n",
    "    # ensure z is a (dim_z, 1) or (1, dim_z) shaped vector\n",
    "    z = np.atleast_2d(z)\n",
    "    if ((z.shape != (dim_z, 1)) or (z.shape != (1, dim_z))):\n",
    "        raise ValueError('z must be convertible to shape ({}, 1)'.format(dim_z))\n",
    "    return z\n",
    "\n",
    "def colVct(vector):\n",
    "    if vector.shape[0] == 1:\n",
    "        return False\n",
    "    else:\n",
    "        return True\n",
    "    \n",
    "def sameOrientation(*argv):\n",
    "    if len(argv) < 2:\n",
    "        raise ValueError(\"Provide atleast 2 vectors to compare\")\n",
    "    flagChanged = False\n",
    "    colVectors = colsVct(argv[0])\n",
    "    for arg in argv:\n",
    "        if colsVct != colsVct(arg):\n",
    "            flagChanged = True\n",
    "            break\n",
    "            \n",
    "    return (not flagChanged)\n",
    "\n",
    "def vectLen(vector):\n",
    "    if (colVct(vector)):\n",
    "        return vector.shape[0]\n",
    "    else:\n",
    "        return vector.shape[1]\n",
    "\n",
    "# def gaussianFilter(dim, std):\n",
    "#     z = np.zeros([1,1])\n",
    "#     f = np.array[[1,1]]\n",
    "    \n",
    "#     if (dim <= 0):\n",
    "#         raise ValueError(\"dim > 0\")\n",
    "        \n",
    "#     elif (dim == 1):\n",
    "#         return [[1]]\n",
    "        \n",
    "#     elif (dim == 2):\n",
    "#         return [[1,1]]\n",
    "    \n",
    "#     else: # dim > 2\n",
    "#     for i in range(dim - 2):\n",
    "#         z = convolv1D(z, f)\n",
    "#     return z\n",
    "\n",
    "# def convolv1D(target, filtr, trim=True):\n",
    "#     filtr = reshape_z(filtr)\n",
    "#     target = reshape_z(target)\n",
    "#     if colVct(vector):\n",
    "#         col = True\n",
    "#         filtr = np.flip(filtr, axis=1)\n",
    "#     else:\n",
    "#         filtr = np.flip(filtr, axis=0)\n",
    "\n",
    "#     if (trim):\n",
    "#         pass\n",
    "#     else:\n",
    "#         pass\n"
   ]
  },
  {
   "cell_type": "code",
   "execution_count": null,
   "metadata": {},
   "outputs": [],
   "source": []
  }
 ],
 "metadata": {
  "kernelspec": {
   "display_name": "Python 3",
   "language": "python",
   "name": "python3"
  },
  "language_info": {
   "codemirror_mode": {
    "name": "ipython",
    "version": 3
   },
   "file_extension": ".py",
   "mimetype": "text/x-python",
   "name": "python",
   "nbconvert_exporter": "python",
   "pygments_lexer": "ipython3",
   "version": "3.7.0"
  }
 },
 "nbformat": 4,
 "nbformat_minor": 2
}
