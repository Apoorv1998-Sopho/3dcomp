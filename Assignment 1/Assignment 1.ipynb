{
 "cells": [
  {
   "cell_type": "code",
   "execution_count": 38,
   "metadata": {},
   "outputs": [
    {
     "ename": "ModuleNotFoundError",
     "evalue": "No module named 'scipy'",
     "output_type": "error",
     "traceback": [
      "\u001b[1;31m---------------------------------------------------------------------------\u001b[0m",
      "\u001b[1;31mModuleNotFoundError\u001b[0m                       Traceback (most recent call last)",
      "\u001b[1;32m<ipython-input-38-18ba84b605a3>\u001b[0m in \u001b[0;36m<module>\u001b[1;34m()\u001b[0m\n\u001b[0;32m      2\u001b[0m \u001b[1;32mimport\u001b[0m \u001b[0mnumpy\u001b[0m \u001b[1;32mas\u001b[0m \u001b[0mnp\u001b[0m\u001b[1;33m\u001b[0m\u001b[0m\n\u001b[0;32m      3\u001b[0m \u001b[1;32mimport\u001b[0m \u001b[0mmath\u001b[0m\u001b[1;33m\u001b[0m\u001b[0m\n\u001b[1;32m----> 4\u001b[1;33m \u001b[1;32mfrom\u001b[0m \u001b[0mscipy\u001b[0m\u001b[1;33m.\u001b[0m\u001b[0msignal\u001b[0m \u001b[1;32mimport\u001b[0m \u001b[0mconvolve2d\u001b[0m\u001b[1;33m\u001b[0m\u001b[0m\n\u001b[0m\u001b[0;32m      5\u001b[0m \u001b[1;32mfrom\u001b[0m \u001b[0mhelper\u001b[0m \u001b[1;32mimport\u001b[0m \u001b[1;33m*\u001b[0m\u001b[1;33m\u001b[0m\u001b[0m\n",
      "\u001b[1;31mModuleNotFoundError\u001b[0m: No module named 'scipy'"
     ]
    }
   ],
   "source": [
    "import cv2 as cv\n",
    "import numpy as np\n",
    "import math\n",
    "from scipy.signal import convolve2d\n",
    "from helper import *"
   ]
  },
  {
   "cell_type": "markdown",
   "metadata": {},
   "source": [
    "------"
   ]
  },
  {
   "cell_type": "markdown",
   "metadata": {},
   "source": [
    "# Q1\n",
    "### Part (a)\n",
    "Design a Gaussian filter kernel of size 9x9 and standard deviations of 1, 3, and 20. Report their values in a matrix form (format of values x.xxxex, for eg: 1.234e-05)."
   ]
  },
  {
   "cell_type": "code",
   "execution_count": 22,
   "metadata": {},
   "outputs": [],
   "source": [
    "P = np.array([[2. , 0.],\n",
    "              [0. , 2.],\n",
    "              [2. , 8.],\n",
    "              [9. , 4.]])\n",
    "f = np.array([[1. , 1., 1.],\n",
    "              [1. , 1., 1.],\n",
    "              [1. , 1., 1.]])  * 1./9\n",
    "r = np.array([[2.789227]])\n",
    "Po = np.array([[3 , 6]])"
   ]
  },
  {
   "cell_type": "code",
   "execution_count": 23,
   "metadata": {},
   "outputs": [],
   "source": [
    "g1 = gaussian_eq(9, 1)\n",
    "g3 = gaussian_eq(9, 3)\n",
    "g20 = gaussian_eq(9, 20)"
   ]
  },
  {
   "cell_type": "markdown",
   "metadata": {},
   "source": [
    "* Gaussian filter (9 x 9) | Standard Deviation = 1 ↓"
   ]
  },
  {
   "cell_type": "code",
   "execution_count": 24,
   "metadata": {
    "scrolled": true
   },
   "outputs": [
    {
     "name": "stdout",
     "output_type": "stream",
     "text": [
      "1.79e-08 | 5.93e-07 | 7.23e-06 | 3.24e-05 | 5.34e-05 | 3.24e-05 | 7.23e-06 | 5.93e-07 | 1.79e-08\n",
      "5.93e-07 | 1.96e-05 | 2.39e-04 | 1.07e-03 | 1.77e-03 | 1.07e-03 | 2.39e-04 | 1.96e-05 | 5.93e-07\n",
      "7.23e-06 | 2.39e-04 | 2.92e-03 | 1.31e-02 | 2.15e-02 | 1.31e-02 | 2.92e-03 | 2.39e-04 | 7.23e-06\n",
      "3.24e-05 | 1.07e-03 | 1.31e-02 | 5.85e-02 | 9.65e-02 | 5.85e-02 | 1.31e-02 | 1.07e-03 | 3.24e-05\n",
      "5.34e-05 | 1.77e-03 | 2.15e-02 | 9.65e-02 | 1.59e-01 | 9.65e-02 | 2.15e-02 | 1.77e-03 | 5.34e-05\n",
      "3.24e-05 | 1.07e-03 | 1.31e-02 | 5.85e-02 | 9.65e-02 | 5.85e-02 | 1.31e-02 | 1.07e-03 | 3.24e-05\n",
      "7.23e-06 | 2.39e-04 | 2.92e-03 | 1.31e-02 | 2.15e-02 | 1.31e-02 | 2.92e-03 | 2.39e-04 | 7.23e-06\n",
      "5.93e-07 | 1.96e-05 | 2.39e-04 | 1.07e-03 | 1.77e-03 | 1.07e-03 | 2.39e-04 | 1.96e-05 | 5.93e-07\n",
      "1.79e-08 | 5.93e-07 | 7.23e-06 | 3.24e-05 | 5.34e-05 | 3.24e-05 | 7.23e-06 | 5.93e-07 | 1.79e-08\n"
     ]
    }
   ],
   "source": [
    "prettyPrint(g1)"
   ]
  },
  {
   "cell_type": "markdown",
   "metadata": {},
   "source": [
    "* Gaussian filter (9 x 9) | Standard Deviation = 3 ↓"
   ]
  },
  {
   "cell_type": "code",
   "execution_count": 25,
   "metadata": {},
   "outputs": [
    {
     "name": "stdout",
     "output_type": "stream",
     "text": [
      "2.99e-03 | 4.41e-03 | 5.82e-03 | 6.88e-03 | 7.27e-03 | 6.88e-03 | 5.82e-03 | 4.41e-03 | 2.99e-03\n",
      "4.41e-03 | 6.51e-03 | 8.59e-03 | 1.01e-02 | 1.07e-02 | 1.01e-02 | 8.59e-03 | 6.51e-03 | 4.41e-03\n",
      "5.82e-03 | 8.59e-03 | 1.13e-02 | 1.34e-02 | 1.42e-02 | 1.34e-02 | 1.13e-02 | 8.59e-03 | 5.82e-03\n",
      "6.88e-03 | 1.01e-02 | 1.34e-02 | 1.58e-02 | 1.67e-02 | 1.58e-02 | 1.34e-02 | 1.01e-02 | 6.88e-03\n",
      "7.27e-03 | 1.07e-02 | 1.42e-02 | 1.67e-02 | 1.77e-02 | 1.67e-02 | 1.42e-02 | 1.07e-02 | 7.27e-03\n",
      "6.88e-03 | 1.01e-02 | 1.34e-02 | 1.58e-02 | 1.67e-02 | 1.58e-02 | 1.34e-02 | 1.01e-02 | 6.88e-03\n",
      "5.82e-03 | 8.59e-03 | 1.13e-02 | 1.34e-02 | 1.42e-02 | 1.34e-02 | 1.13e-02 | 8.59e-03 | 5.82e-03\n",
      "4.41e-03 | 6.51e-03 | 8.59e-03 | 1.01e-02 | 1.07e-02 | 1.01e-02 | 8.59e-03 | 6.51e-03 | 4.41e-03\n",
      "2.99e-03 | 4.41e-03 | 5.82e-03 | 6.88e-03 | 7.27e-03 | 6.88e-03 | 5.82e-03 | 4.41e-03 | 2.99e-03\n"
     ]
    }
   ],
   "source": [
    "prettyPrint(g3)"
   ]
  },
  {
   "cell_type": "markdown",
   "metadata": {},
   "source": [
    "* Gaussian filter (9 x 9) | Standard Deviation = 20 ↓"
   ]
  },
  {
   "cell_type": "code",
   "execution_count": 26,
   "metadata": {
    "scrolled": true
   },
   "outputs": [
    {
     "name": "stdout",
     "output_type": "stream",
     "text": [
      "3.82e-04 | 3.86e-04 | 3.88e-04 | 3.90e-04 | 3.90e-04 | 3.90e-04 | 3.88e-04 | 3.86e-04 | 3.82e-04\n",
      "3.86e-04 | 3.89e-04 | 3.91e-04 | 3.93e-04 | 3.93e-04 | 3.93e-04 | 3.91e-04 | 3.89e-04 | 3.86e-04\n",
      "3.88e-04 | 3.91e-04 | 3.94e-04 | 3.95e-04 | 3.96e-04 | 3.95e-04 | 3.94e-04 | 3.91e-04 | 3.88e-04\n",
      "3.90e-04 | 3.93e-04 | 3.95e-04 | 3.97e-04 | 3.97e-04 | 3.97e-04 | 3.95e-04 | 3.93e-04 | 3.90e-04\n",
      "3.90e-04 | 3.93e-04 | 3.96e-04 | 3.97e-04 | 3.98e-04 | 3.97e-04 | 3.96e-04 | 3.93e-04 | 3.90e-04\n",
      "3.90e-04 | 3.93e-04 | 3.95e-04 | 3.97e-04 | 3.97e-04 | 3.97e-04 | 3.95e-04 | 3.93e-04 | 3.90e-04\n",
      "3.88e-04 | 3.91e-04 | 3.94e-04 | 3.95e-04 | 3.96e-04 | 3.95e-04 | 3.94e-04 | 3.91e-04 | 3.88e-04\n",
      "3.86e-04 | 3.89e-04 | 3.91e-04 | 3.93e-04 | 3.93e-04 | 3.93e-04 | 3.91e-04 | 3.89e-04 | 3.86e-04\n",
      "3.82e-04 | 3.86e-04 | 3.88e-04 | 3.90e-04 | 3.90e-04 | 3.90e-04 | 3.88e-04 | 3.86e-04 | 3.82e-04\n"
     ]
    }
   ],
   "source": [
    "prettyPrint(g20)"
   ]
  },
  {
   "cell_type": "markdown",
   "metadata": {},
   "source": [
    "-----"
   ]
  },
  {
   "cell_type": "markdown",
   "metadata": {},
   "source": [
    "### Part (b)\n",
    "Perform Gaussian filtering on an image with the kernel designed in part 1(a) and compare the results obtained using different standard deviations on the same image."
   ]
  },
  {
   "cell_type": "code",
   "execution_count": 32,
   "metadata": {},
   "outputs": [],
   "source": [
    "# read img\n",
    "I1 = cv.imread('imgs/3_1.jpg')\n",
    "height, width, channels = I1.shape\n",
    "\n",
    "# convert to grey\n",
    "I1_gray = cv.cvtColor(I1,cv.COLOR_BGR2GRAY);\n",
    "\n",
    "# show both greyed image\n",
    "cv.namedWindow('raw1_grey', cv.WINDOW_NORMAL)\n",
    "cv.imshow('raw1_grey',I1_gray)\n",
    "cv.waitKey(0)\n",
    "cv.destroyAllWindows()"
   ]
  },
  {
   "cell_type": "code",
   "execution_count": 36,
   "metadata": {},
   "outputs": [],
   "source": [
    "scale = 0.1\n",
    "# resize to make the filters fast\n",
    "I1_resized = cv.resize(I1_gray,None, fx = scale, fy = scale, \\\n",
    "                 interpolation = cv.INTER_CUBIC)\n",
    "cv.namedWindow('resize', cv.WINDOW_NORMAL)\n",
    "cv.imshow('resize',I1_resized)\n",
    "cv.waitKey(0)\n",
    "cv.destroyAllWindows()"
   ]
  },
  {
   "cell_type": "code",
   "execution_count": 37,
   "metadata": {},
   "outputs": [],
   "source": [
    "# apply gaussian filtering to the images\n",
    "I_gaussed1 = covolv(I1_resized, g1)\n",
    "cv.namedWindow('gaussed', cv.WINDOW_NORMAL)\n",
    "cv.imshow('gaussed',I_gaussed1)\n",
    "cv.waitKey(0)\n",
    "cv.destroyAllWindows()"
   ]
  },
  {
   "cell_type": "code",
   "execution_count": null,
   "metadata": {},
   "outputs": [],
   "source": [
    "# Ref - https://github.com/rlabbe/filterpy/blob/master/filterpy/common/helpers.py#L309\n",
    "def reshape_z(z, dim_z):\n",
    "    # ensure z is a (dim_z, 1) or (1, dim_z) shaped vector\n",
    "    z = np.atleast_2d(z)\n",
    "    if ((z.shape != (dim_z, 1)) or (z.shape != (1, dim_z))):\n",
    "        raise ValueError('z must be convertible to shape ({}, 1)'.format(dim_z))\n",
    "    return z\n",
    "\n",
    "def colVct(vector):\n",
    "    if vector.shape[0] == 1:\n",
    "        return False\n",
    "    else:\n",
    "        return True\n",
    "    \n",
    "def sameOrientation(*argv):\n",
    "    if len(argv) < 2:\n",
    "        raise ValueError(\"Provide atleast 2 vectors to compare\")\n",
    "    flagChanged = False\n",
    "    colVectors = colsVct(argv[0])\n",
    "    for arg in argv:\n",
    "        if colsVct != colsVct(arg):\n",
    "            flagChanged = True\n",
    "            break\n",
    "            \n",
    "    return (not flagChanged)\n",
    "\n",
    "def vectLen(vector):\n",
    "    if (colVct(vector)):\n",
    "        return vector.shape[0]\n",
    "    else:\n",
    "        return vector.shape[1]\n",
    "\n",
    "# def gaussianFilter(dim, std):\n",
    "#     z = np.zeros([1,1])\n",
    "#     f = np.array[[1,1]]\n",
    "    \n",
    "#     if (dim <= 0):\n",
    "#         raise ValueError(\"dim > 0\")\n",
    "        \n",
    "#     elif (dim == 1):\n",
    "#         return [[1]]\n",
    "        \n",
    "#     elif (dim == 2):\n",
    "#         return [[1,1]]\n",
    "    \n",
    "#     else: # dim > 2\n",
    "#     for i in range(dim - 2):\n",
    "#         z = convolv1D(z, f)\n",
    "#     return z\n",
    "\n",
    "# def convolv1D(target, filtr, trim=True):\n",
    "#     filtr = reshape_z(filtr)\n",
    "#     target = reshape_z(target)\n",
    "#     if colVct(vector):\n",
    "#         col = True\n",
    "#         filtr = np.flip(filtr, axis=1)\n",
    "#     else:\n",
    "#         filtr = np.flip(filtr, axis=0)\n",
    "\n",
    "#     if (trim):\n",
    "#         pass\n",
    "#     else:\n",
    "#         pass\n"
   ]
  }
 ],
 "metadata": {
  "kernelspec": {
   "display_name": "Python 3",
   "language": "python",
   "name": "python3"
  },
  "language_info": {
   "codemirror_mode": {
    "name": "ipython",
    "version": 3
   },
   "file_extension": ".py",
   "mimetype": "text/x-python",
   "name": "python",
   "nbconvert_exporter": "python",
   "pygments_lexer": "ipython3",
   "version": "3.7.0"
  }
 },
 "nbformat": 4,
 "nbformat_minor": 2
}
