{
 "cells": [
  {
   "cell_type": "code",
   "execution_count": 10,
   "metadata": {},
   "outputs": [],
   "source": [
    "import cv2 as cv\n",
    "import numpy as np\n",
    "import math\n",
    "from scipy.signal import convolve2d\n",
    "from helper import *"
   ]
  },
  {
   "cell_type": "markdown",
   "metadata": {},
   "source": [
    "------"
   ]
  },
  {
   "cell_type": "markdown",
   "metadata": {},
   "source": [
    "# Question 1\n",
    "### Part (a)\n",
    "Design a Gaussian filter kernel of size 9x9 and standard deviations of 1, 3, and 20. Report their values in a matrix form (format of values x.xxxex, for eg: 1.234e-05)."
   ]
  },
  {
   "cell_type": "code",
   "execution_count": 11,
   "metadata": {},
   "outputs": [],
   "source": [
    "g1 = gaussian_eq(9, 1)\n",
    "g3 = gaussian_eq(9, 3)\n",
    "g20 = gaussian_eq(9, 20)"
   ]
  },
  {
   "cell_type": "code",
   "execution_count": 12,
   "metadata": {
    "scrolled": true
   },
   "outputs": [
    {
     "name": "stdout",
     "output_type": "stream",
     "text": [
      "1.791e-08 | 5.931e-07 | 7.226e-06 | 3.238e-05 | 5.339e-05 | 3.238e-05 | 7.226e-06 | 5.931e-07 | 1.791e-08\n",
      "5.931e-07 | 1.964e-05 | 2.393e-04 | 1.072e-03 | 1.768e-03 | 1.072e-03 | 2.393e-04 | 1.964e-05 | 5.931e-07\n",
      "7.226e-06 | 2.393e-04 | 2.915e-03 | 1.306e-02 | 2.154e-02 | 1.306e-02 | 2.915e-03 | 2.393e-04 | 7.226e-06\n",
      "3.238e-05 | 1.072e-03 | 1.306e-02 | 5.855e-02 | 9.653e-02 | 5.855e-02 | 1.306e-02 | 1.072e-03 | 3.238e-05\n",
      "5.339e-05 | 1.768e-03 | 2.154e-02 | 9.653e-02 | 1.592e-01 | 9.653e-02 | 2.154e-02 | 1.768e-03 | 5.339e-05\n",
      "3.238e-05 | 1.072e-03 | 1.306e-02 | 5.855e-02 | 9.653e-02 | 5.855e-02 | 1.306e-02 | 1.072e-03 | 3.238e-05\n",
      "7.226e-06 | 2.393e-04 | 2.915e-03 | 1.306e-02 | 2.154e-02 | 1.306e-02 | 2.915e-03 | 2.393e-04 | 7.226e-06\n",
      "5.931e-07 | 1.964e-05 | 2.393e-04 | 1.072e-03 | 1.768e-03 | 1.072e-03 | 2.393e-04 | 1.964e-05 | 5.931e-07\n",
      "1.791e-08 | 5.931e-07 | 7.226e-06 | 3.238e-05 | 5.339e-05 | 3.238e-05 | 7.226e-06 | 5.931e-07 | 1.791e-08\n"
     ]
    }
   ],
   "source": [
    "prettyPrint(g1)"
   ]
  },
  {
   "cell_type": "markdown",
   "metadata": {},
   "source": [
    "* Gaussian filter (9 x 9) | Standard Deviation = 1 ↑"
   ]
  },
  {
   "cell_type": "code",
   "execution_count": 13,
   "metadata": {},
   "outputs": [
    {
     "name": "stdout",
     "output_type": "stream",
     "text": [
      "3.965e-03 | 5.850e-03 | 7.723e-03 | 9.124e-03 | 9.645e-03 | 9.124e-03 | 7.723e-03 | 5.850e-03 | 3.965e-03\n",
      "5.850e-03 | 8.631e-03 | 1.139e-02 | 1.346e-02 | 1.423e-02 | 1.346e-02 | 1.139e-02 | 8.631e-03 | 5.850e-03\n",
      "7.723e-03 | 1.139e-02 | 1.504e-02 | 1.777e-02 | 1.879e-02 | 1.777e-02 | 1.504e-02 | 1.139e-02 | 7.723e-03\n",
      "9.124e-03 | 1.346e-02 | 1.777e-02 | 2.099e-02 | 2.219e-02 | 2.099e-02 | 1.777e-02 | 1.346e-02 | 9.124e-03\n",
      "9.645e-03 | 1.423e-02 | 1.879e-02 | 2.219e-02 | 2.346e-02 | 2.219e-02 | 1.879e-02 | 1.423e-02 | 9.645e-03\n",
      "9.124e-03 | 1.346e-02 | 1.777e-02 | 2.099e-02 | 2.219e-02 | 2.099e-02 | 1.777e-02 | 1.346e-02 | 9.124e-03\n",
      "7.723e-03 | 1.139e-02 | 1.504e-02 | 1.777e-02 | 1.879e-02 | 1.777e-02 | 1.504e-02 | 1.139e-02 | 7.723e-03\n",
      "5.850e-03 | 8.631e-03 | 1.139e-02 | 1.346e-02 | 1.423e-02 | 1.346e-02 | 1.139e-02 | 8.631e-03 | 5.850e-03\n",
      "3.965e-03 | 5.850e-03 | 7.723e-03 | 9.124e-03 | 9.645e-03 | 9.124e-03 | 7.723e-03 | 5.850e-03 | 3.965e-03\n"
     ]
    }
   ],
   "source": [
    "prettyPrint(g3)"
   ]
  },
  {
   "cell_type": "markdown",
   "metadata": {},
   "source": [
    "* Gaussian filter (9 x 9) | Standard Deviation = 3 ↑"
   ]
  },
  {
   "cell_type": "code",
   "execution_count": 14,
   "metadata": {
    "scrolled": false
   },
   "outputs": [
    {
     "name": "stdout",
     "output_type": "stream",
     "text": [
      "1.206e-02 | 1.217e-02 | 1.224e-02 | 1.229e-02 | 1.230e-02 | 1.229e-02 | 1.224e-02 | 1.217e-02 | 1.206e-02\n",
      "1.217e-02 | 1.227e-02 | 1.235e-02 | 1.240e-02 | 1.241e-02 | 1.240e-02 | 1.235e-02 | 1.227e-02 | 1.217e-02\n",
      "1.224e-02 | 1.235e-02 | 1.243e-02 | 1.247e-02 | 1.249e-02 | 1.247e-02 | 1.243e-02 | 1.235e-02 | 1.224e-02\n",
      "1.229e-02 | 1.240e-02 | 1.247e-02 | 1.252e-02 | 1.254e-02 | 1.252e-02 | 1.247e-02 | 1.240e-02 | 1.229e-02\n",
      "1.230e-02 | 1.241e-02 | 1.249e-02 | 1.254e-02 | 1.255e-02 | 1.254e-02 | 1.249e-02 | 1.241e-02 | 1.230e-02\n",
      "1.229e-02 | 1.240e-02 | 1.247e-02 | 1.252e-02 | 1.254e-02 | 1.252e-02 | 1.247e-02 | 1.240e-02 | 1.229e-02\n",
      "1.224e-02 | 1.235e-02 | 1.243e-02 | 1.247e-02 | 1.249e-02 | 1.247e-02 | 1.243e-02 | 1.235e-02 | 1.224e-02\n",
      "1.217e-02 | 1.227e-02 | 1.235e-02 | 1.240e-02 | 1.241e-02 | 1.240e-02 | 1.235e-02 | 1.227e-02 | 1.217e-02\n",
      "1.206e-02 | 1.217e-02 | 1.224e-02 | 1.229e-02 | 1.230e-02 | 1.229e-02 | 1.224e-02 | 1.217e-02 | 1.206e-02\n"
     ]
    }
   ],
   "source": [
    "prettyPrint(g20)"
   ]
  },
  {
   "cell_type": "markdown",
   "metadata": {},
   "source": [
    "* Gaussian filter (9 x 9) | Standard Deviation = 20 ↑\n",
    "-----"
   ]
  },
  {
   "cell_type": "markdown",
   "metadata": {},
   "source": [
    "### Part (b)\n",
    "Perform Gaussian filtering on an image with the kernel designed in part 1(a) and compare the results obtained using different standard deviations on the same image."
   ]
  },
  {
   "cell_type": "code",
   "execution_count": 15,
   "metadata": {},
   "outputs": [],
   "source": [
    "# read img and convert to grey (resized)\n",
    "I1 = readImg_Grey_Resize(file='imgs/3_1.jpg', scale=1)"
   ]
  },
  {
   "cell_type": "code",
   "execution_count": null,
   "metadata": {},
   "outputs": [],
   "source": [
    "Initial images, \n",
    "* colored\n",
    "\n",
    "* greyscale\n"
   ]
  },
  {
   "cell_type": "code",
   "execution_count": 19,
   "metadata": {
    "scrolled": true
   },
   "outputs": [],
   "source": [
    "# apply the 3 gaussian filters to the image\n",
    "I_gaussed1 = covolv(I1, g1)\n",
    "I_gaussed2 = covolv(I1, g3)\n",
    "I_gaussed3 = covolv(I1, g20)"
   ]
  },
  {
   "cell_type": "code",
   "execution_count": 20,
   "metadata": {},
   "outputs": [],
   "source": [
    "# show result with differnt standard deviations\n",
    "cv.namedWindow('gaussed_1', cv.WINDOW_NORMAL)\n",
    "cv.imshow('gaussed_1',I_gaussed1)\n",
    "\n",
    "cv.namedWindow('gaussed_3', cv.WINDOW_NORMAL)\n",
    "cv.imshow('gaussed_3',I_gaussed2)\n",
    "\n",
    "cv.namedWindow('gaussed_20', cv.WINDOW_NORMAL)\n",
    "cv.imshow('gaussed_20',I_gaussed3)\n",
    "cv.waitKey(0)\n",
    "cv.destroyAllWindows()"
   ]
  },
  {
   "cell_type": "markdown",
   "metadata": {},
   "source": [
    "Below are the results that I got from running the above convolutions.\n",
    "![g1 Result](./results/g1.png)\n",
    "Gaussian filter with standard Deviation = 1\n",
    "\n",
    "---\n",
    "![g1 Result](./results/g3.png)\n",
    "Gaussian filter with standard Deviation = 3\n",
    "\n",
    "---\n",
    "![g1 Result](./results/g20.png)\n",
    "Gaussian filter with standard Deviation = 20"
   ]
  },
  {
   "cell_type": "code",
   "execution_count": 9,
   "metadata": {},
   "outputs": [],
   "source": [
    "# deleting variables of Question 1\n",
    "del I_gaussed1\n",
    "del I_gaussed20\n",
    "del I_gaussed3\n",
    "del g1\n",
    "del g3\n",
    "del g20"
   ]
  },
  {
   "cell_type": "markdown",
   "metadata": {},
   "source": [
    "----\n",
    "# Question 2\n",
    "### Part(a)\n",
    "Design a DoG (Difference of Gaussians) filter of size 11x11 and standard deviations of your choice. Report the kernel values in a matrix form."
   ]
  },
  {
   "cell_type": "code",
   "execution_count": 16,
   "metadata": {},
   "outputs": [
    {
     "name": "stdout",
     "output_type": "stream",
     "text": [
      "2.698e-03 | 2.157e-03 | 1.630e-03 | 1.187e-03 | 8.920e-04 | 7.885e-04 | 8.920e-04 | 1.187e-03 | 1.630e-03 | 2.157e-03 | 2.698e-03\n",
      "2.157e-03 | 1.460e-03 | 7.885e-04 | 2.290e-04 | -1.423e-04 | -2.723e-04 | -1.423e-04 | 2.290e-04 | 7.885e-04 | 1.460e-03 | 2.157e-03\n",
      "1.630e-03 | 7.885e-04 | -1.542e-05 | -6.824e-04 | -1.124e-03 | -1.278e-03 | -1.124e-03 | -6.824e-04 | -1.542e-05 | 7.885e-04 | 1.630e-03\n",
      "1.187e-03 | 2.290e-04 | -6.824e-04 | -1.436e-03 | -1.934e-03 | -2.108e-03 | -1.934e-03 | -1.436e-03 | -6.824e-04 | 2.290e-04 | 1.187e-03\n",
      "8.920e-04 | -1.423e-04 | -1.124e-03 | -1.934e-03 | -2.469e-03 | -2.656e-03 | -2.469e-03 | -1.934e-03 | -1.124e-03 | -1.423e-04 | 8.920e-04\n",
      "7.885e-04 | -2.723e-04 | -1.278e-03 | -2.108e-03 | -2.656e-03 | -2.848e-03 | -2.656e-03 | -2.108e-03 | -1.278e-03 | -2.723e-04 | 7.885e-04\n",
      "8.920e-04 | -1.423e-04 | -1.124e-03 | -1.934e-03 | -2.469e-03 | -2.656e-03 | -2.469e-03 | -1.934e-03 | -1.124e-03 | -1.423e-04 | 8.920e-04\n",
      "1.187e-03 | 2.290e-04 | -6.824e-04 | -1.436e-03 | -1.934e-03 | -2.108e-03 | -1.934e-03 | -1.436e-03 | -6.824e-04 | 2.290e-04 | 1.187e-03\n",
      "1.630e-03 | 7.885e-04 | -1.542e-05 | -6.824e-04 | -1.124e-03 | -1.278e-03 | -1.124e-03 | -6.824e-04 | -1.542e-05 | 7.885e-04 | 1.630e-03\n",
      "2.157e-03 | 1.460e-03 | 7.885e-04 | 2.290e-04 | -1.423e-04 | -2.723e-04 | -1.423e-04 | 2.290e-04 | 7.885e-04 | 1.460e-03 | 2.157e-03\n",
      "2.698e-03 | 2.157e-03 | 1.630e-03 | 1.187e-03 | 8.920e-04 | 7.885e-04 | 8.920e-04 | 1.187e-03 | 1.630e-03 | 2.157e-03 | 2.698e-03\n"
     ]
    }
   ],
   "source": [
    "DOG = gaussian_eq(11, 10) - gaussian_eq(11, 5)\n",
    "prettyPrint(DOG)"
   ]
  },
  {
   "cell_type": "markdown",
   "metadata": {},
   "source": [
    "### Part(b)\n",
    "Perform filtering on an image using DoG filter designed in part 2(a)."
   ]
  },
  {
   "cell_type": "code",
   "execution_count": 17,
   "metadata": {},
   "outputs": [],
   "source": [
    "I_dog = covolv(I1, DOG)"
   ]
  },
  {
   "cell_type": "code",
   "execution_count": 18,
   "metadata": {},
   "outputs": [],
   "source": [
    "# show result with DOG filter\n",
    "cv.namedWindow('dog_filtered', cv.WINDOW_NORMAL)\n",
    "cv.imshow('dog_filtered',I_dog)\n",
    "cv.waitKey(0)\n",
    "cv.destroyAllWindows()"
   ]
  },
  {
   "cell_type": "markdown",
   "metadata": {},
   "source": [
    "Below is an image of result that I got from running the above convolution.\n",
    "\n",
    "![DOG Result](./results/dog.png)"
   ]
  },
  {
   "cell_type": "markdown",
   "metadata": {},
   "source": [
    "### Part(c)\n",
    "Detect zero crossings and generate a binary image highlighting the\n",
    "zero crossings on the DoG filtered image. "
   ]
  },
  {
   "cell_type": "code",
   "execution_count": 26,
   "metadata": {},
   "outputs": [],
   "source": [
    "o = np.load('out.npy')"
   ]
  },
  {
   "cell_type": "code",
   "execution_count": null,
   "metadata": {},
   "outputs": [],
   "source": [
    "detectZeroCrossings"
   ]
  }
 ],
 "metadata": {
  "kernelspec": {
   "display_name": "Python 3",
   "language": "python",
   "name": "python3"
  },
  "language_info": {
   "codemirror_mode": {
    "name": "ipython",
    "version": 3
   },
   "file_extension": ".py",
   "mimetype": "text/x-python",
   "name": "python",
   "nbconvert_exporter": "python",
   "pygments_lexer": "ipython3",
   "version": "3.7.0"
  }
 },
 "nbformat": 4,
 "nbformat_minor": 2
}
