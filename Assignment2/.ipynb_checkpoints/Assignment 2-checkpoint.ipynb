{
 "cells": [
  {
   "cell_type": "markdown",
   "metadata": {},
   "source": [
    "# Scale-space decomposition"
   ]
  },
  {
   "cell_type": "code",
   "execution_count": 7,
   "metadata": {
    "scrolled": true
   },
   "outputs": [
    {
     "name": "stdout",
     "output_type": "stream",
     "text": [
      "Blurring done\n",
      "Dogs calculated\n"
     ]
    }
   ],
   "source": [
    "import old_helper as hp\n",
    "from scipy.ndimage import gaussian_filter\n",
    "import cv2 as cv\n",
    "import numpy as np\n",
    "\n",
    "# container is a dictionary in which we have tuples as keys, (octave, scale) and numpy arrays as vals\n",
    "Container = {}\n",
    "Dogs = {}\n",
    "Keypoints = {}\n",
    "sigma = 1\n",
    "gaussian_dim = 3\n",
    "scales = 5\n",
    "octaves = 2\n",
    "k = 2**.5\n",
    "\n",
    "# read img and convert to grey (resized)\n",
    "img = hp.readImg_Grey_Resize(file='imgs/5_1.jpg', scale=.25)\n",
    "\n",
    "# guassian blur\n",
    "def blur(img, dim, newsigma):\n",
    "    gauss = hp.gaussian_nor(dim, newsigma)\n",
    "    return hp.covolv(img, gauss)\n",
    "\n",
    "def absolDiff(img2, img1):\n",
    "    rows, cols = img2.shape\n",
    "    diff = np.zeros((rows, cols))    \n",
    "    for i in range(rows):\n",
    "        for k in range(cols):\n",
    "            # making as type int because of underflow and realted problems\n",
    "            diff[i,k]=abs(int(img2[i][k]) - int(img1[i][k]))\n",
    "    return diff\n",
    "\n",
    "# Q1\n",
    "# generating scale space\n",
    "for i in range(octaves):\n",
    "    # For different octaves\n",
    "    scale = 1./(2**i)\n",
    "    newBaseImg = cv.resize(img, None, fx = scale, fy = scale, interpolation = cv.INTER_CUBIC)\n",
    "    for j in range(scales):\n",
    "        #find the related sigam\n",
    "        newsigma = sigma*(k**((i*2)+j))\n",
    "        Container[(i,j)]=blur(newBaseImg.astype(np.float32), gaussian_dim, newsigma)\n",
    "print('Blurring done')\n",
    "#imageshowing\n",
    "for i in range(octaves):\n",
    "    for j in range(scales):\n",
    "        cv.namedWindow('gaussed', cv.WINDOW_NORMAL)\n",
    "        cv.imshow('gaussed',Container[(i,j)].astype(np.uint8))\n",
    "        cv.waitKey(0)\n",
    "        cv.destroyAllWindows()\n",
    "\n",
    "# generating dogs\n",
    "for i in range(octaves):\n",
    "    for j in range(scales-1):\n",
    "        Dogs[(i,j)]= Container[i,j] - Container[i,j+1]\n",
    "print('Dogs calculated')\n",
    "#imageshowing\n",
    "for i in range(octaves):\n",
    "    for j in range(scales-1):\n",
    "        cv.namedWindow('dogs', cv.WINDOW_NORMAL)\n",
    "        cv.imshow('dogs',Dogs[(i,j)])\n",
    "        cv.waitKey(0)\n",
    "\n",
    "        cv.destroyAllWindows()"
   ]
  },
  {
   "cell_type": "code",
   "execution_count": 8,
   "metadata": {
    "scrolled": true
   },
   "outputs": [
    {
     "data": {
      "text/plain": [
       "{(0, 0): array([[ 7.79849315,  5.50234445,  5.51212667, ..., -1.05111828,\n",
       "         -1.12155543,  3.14922806],\n",
       "        [ 5.33907802,  0.0560886 , -0.19544078, ...,  4.09773484,\n",
       "          4.33643778,  9.59355129],\n",
       "        [ 5.16776801,  0.40044725, -0.06891503, ...,  1.7878806 ,\n",
       "          2.09658766,  8.24568634],\n",
       "        ...,\n",
       "        [ 2.95031003, -0.34588077, -0.23718082, ..., -0.54067201,\n",
       "          0.34240352,  2.96204738],\n",
       "        [ 2.78856571, -0.09891773, -0.36544519, ..., -0.89741102,\n",
       "         -0.43284464,  2.90856998],\n",
       "        [ 4.10055602,  2.80443638,  3.02139671, ...,  4.40360766,\n",
       "          3.40902406,  4.19034108]]),\n",
       " (0, 1): array([[ 3.63285857,  2.65755125,  2.65234454, ..., -0.48987863,\n",
       "         -0.52645931,  1.52121362],\n",
       "        [ 2.57161781,  0.02569994, -0.09349881, ...,  1.9669462 ,\n",
       "          2.0806267 ,  4.53538233],\n",
       "        [ 2.48379303,  0.19425145, -0.03121819, ...,  0.85079025,\n",
       "          1.02597251,  3.92568186],\n",
       "        ...,\n",
       "        [ 1.44191092, -0.173914  , -0.10831801, ..., -0.30479443,\n",
       "          0.18811011,  1.41714561],\n",
       "        [ 1.36133996, -0.0708027 , -0.16350057, ..., -0.31861274,\n",
       "         -0.28194255,  1.42709173],\n",
       "        [ 1.89754544,  1.37758319,  1.44110998, ...,  2.02635667,\n",
       "          1.72242945,  1.93617323]]),\n",
       " (0, 2): array([[ 1.74216794,  1.29746185,  1.29258327, ..., -0.2349802 ,\n",
       "         -0.25344194,  0.74272547],\n",
       "        [ 1.25384238,  0.01222011, -0.04543686, ...,  0.95742652,\n",
       "          1.01254861,  2.19115633],\n",
       "        [ 1.20976857,  0.09503481, -0.01475501, ...,  0.41237536,\n",
       "          0.50403853,  1.90320654],\n",
       "        ...,\n",
       "        [ 0.70795447, -0.08652144, -0.05141535, ..., -0.15907731,\n",
       "          0.0971873 ,  0.68870328],\n",
       "        [ 0.66804174, -0.03998467, -0.07676427, ..., -0.12853739,\n",
       "         -0.15479697,  0.70197599],\n",
       "        [ 0.90689524,  0.67799011,  0.6992972 , ...,  0.96565212,\n",
       "          0.85878155,  0.92463949]]),\n",
       " (0, 3): array([[ 0.85181601,  0.64002656,  0.63705693, ..., -0.11490471,\n",
       "         -0.1241569 ,  0.36639033],\n",
       "        [ 0.61810816,  0.00594927, -0.0223628 , ...,  0.47159846,\n",
       "          0.49869845,  1.07531286],\n",
       "        [ 0.59607865,  0.04692754, -0.00716134, ...,  0.20269943,\n",
       "          0.24939477,  0.9356112 ],\n",
       "        ...,\n",
       "        [ 0.350189  , -0.04306913, -0.02500914, ..., -0.08094666,\n",
       "          0.04923058,  0.33896706],\n",
       "        [ 0.33036144, -0.02102962, -0.03712986, ..., -0.05689634,\n",
       "         -0.08049227,  0.34754265],\n",
       "        [ 0.44265983,  0.33575522,  0.34392644, ...,  0.4706486 ,\n",
       "          0.42793383,  0.45114434]]),\n",
       " (1, 0): array([[ 1.72741294e+00,  1.31429740e+00,  1.29901610e+00, ...,\n",
       "          1.07092308e+00,  9.95785005e-01,  1.66456692e+00],\n",
       "        [ 1.23999607e+00,  4.58912127e-02, -3.44359065e-03, ...,\n",
       "          2.41914690e-01,  8.96852251e-01,  1.93582505e+00],\n",
       "        [ 1.17428007e+00,  6.27267622e-02, -1.72898986e-02, ...,\n",
       "         -1.16344568e+00, -6.26837907e-01,  9.25597456e-01],\n",
       "        ...,\n",
       "        [ 7.60924064e-01,  3.36710991e-02, -3.82403685e-04, ...,\n",
       "         -1.96693662e-01, -6.55967473e-02,  6.88512081e-01],\n",
       "        [ 7.46360260e-01,  5.53852319e-02, -2.93188103e-02, ...,\n",
       "         -3.98265908e-01,  2.88644613e-02,  5.79104664e-01],\n",
       "        [ 8.99625657e-01,  6.68878491e-01,  6.85714041e-01, ...,\n",
       "          9.70436080e-01,  1.12245769e+00,  1.01709210e+00]]),\n",
       " (1, 1): array([[ 0.84465467,  0.64828887,  0.63981437, ...,  0.52777819,\n",
       "          0.49163821,  0.81566602],\n",
       "        [ 0.61116901,  0.02247389, -0.00143427, ...,  0.11482363,\n",
       "          0.4431653 ,  0.9495095 ],\n",
       "        [ 0.57910964,  0.03073621, -0.00837341, ..., -0.56639235,\n",
       "         -0.31140267,  0.45966992],\n",
       "        ...,\n",
       "        [ 0.37498594,  0.01652463,  0.00109097, ..., -0.09606704,\n",
       "         -0.03380693,  0.33951254],\n",
       "        [ 0.36727912,  0.02775657, -0.01486816, ..., -0.1951037 ,\n",
       "          0.01475707,  0.28433269],\n",
       "        [ 0.44088226,  0.32938157,  0.33764388, ...,  0.47951748,\n",
       "          0.55103978,  0.49980943]]),\n",
       " (1, 2): array([[ 0.41749255,  0.32182699,  0.31739042, ...,  0.26188869,\n",
       "          0.24417399,  0.40359465],\n",
       "        [ 0.30328455,  0.01111682, -0.00064723, ...,  0.05589774,\n",
       "          0.22019084,  0.47004847],\n",
       "        [ 0.28745662,  0.01520815, -0.00411879, ..., -0.27933638,\n",
       "         -0.15512963,  0.22895418],\n",
       "        ...,\n",
       "        [ 0.18606755,  0.00818267,  0.0008552 , ..., -0.04745633,\n",
       "         -0.01713818,  0.16851757],\n",
       "        [ 0.18211349,  0.01388624, -0.00748054, ..., -0.09652489,\n",
       "          0.00745308,  0.14082744],\n",
       "        [ 0.21816266,  0.16337886,  0.1674702 , ...,  0.23825078,\n",
       "          0.27290735,  0.24765721]]),\n",
       " (1, 3): array([[ 0.20752956,  0.16032185,  0.15805491, ...,  0.13043474,\n",
       "          0.12166591,  0.2007281 ],\n",
       "        [ 0.15105621,  0.00552813, -0.00030639, ...,  0.02757303,\n",
       "          0.10973823,  0.23383545],\n",
       "        [ 0.14319291,  0.00756373, -0.00204242, ..., -0.13870058,\n",
       "         -0.07741361,  0.11424483],\n",
       "        ...,\n",
       "        [ 0.09267069,  0.0040712 ,  0.00050363, ..., -0.02358307,\n",
       "         -0.00862556,  0.08394279],\n",
       "        [ 0.0906692 ,  0.00694411, -0.00375116, ..., -0.04800346,\n",
       "          0.00374434,  0.07007503],\n",
       "        [ 0.10850645,  0.0813558 ,  0.0833914 , ...,  0.11873841,\n",
       "          0.13579293,  0.12325928]])}"
      ]
     },
     "execution_count": 8,
     "metadata": {},
     "output_type": "execute_result"
    }
   ],
   "source": [
    "Dogs"
   ]
  },
  {
   "cell_type": "code",
   "execution_count": 9,
   "metadata": {},
   "outputs": [
    {
     "data": {
      "text/plain": [
       "array([254], dtype=uint8)"
      ]
     },
     "execution_count": 9,
     "metadata": {},
     "output_type": "execute_result"
    }
   ],
   "source": [
    "a = np.array([2])\n",
    "b = np.array([4])\n",
    "a.astype(np.uint8) - b.astype(np.uint8)"
   ]
  },
  {
   "cell_type": "code",
   "execution_count": null,
   "metadata": {},
   "outputs": [
    {
     "name": "stdout",
     "output_type": "stream",
     "text": [
      "Starting Keypoints\n"
     ]
    }
   ],
   "source": [
    "# import numpy as np\n",
    "# a = np.array([[ 3,  2,  1, 30],\n",
    "#        [40, 20,  1,  0],\n",
    "#        [30,  1, 20, 30],\n",
    "#        [ 1,  6,  2,  3]])\n",
    "# b = np.array([[ 3,  2,  4,  5],\n",
    "#        [ 2,  1, 30, 40],\n",
    "#        [40, 50, 43, 21],\n",
    "#        [ 1,  0,  2,  0]])\n",
    "# c = np.array([[ 2,  3,  4,  3],\n",
    "#        [ 2,  3,  4,  5],\n",
    "#        [ 5,  6,  7,  8],\n",
    "#        [ 6,  5,  4,  3]])\n",
    "# l = {(0,0):a, \n",
    "#       (0,1):b,\n",
    "#       (0,2):c}\n",
    "# octaves = 1\n",
    "# scales = 4\n",
    "Keypoints ={}\n",
    "# Dogs = l\n",
    "print ('Starting Keypoints')\n",
    "for i in range(octaves):\n",
    "    # since dog is 1 less than scales and \n",
    "    # key points would further be 2 less than dogs\n",
    "    for j in range(1, scales-2):\n",
    "        up_scale = Dogs[(i,j+1)]\n",
    "        mid_scale = Dogs[(i,j)]\n",
    "        low_scale = Dogs[(i,j-1)]\n",
    "        \n",
    "        rows, cols = up_scale.shape\n",
    "        for l in range(1, rows-1):\n",
    "            for k in range(1, cols-1):\n",
    "                # checking if a keypt or not\n",
    "                flag = 0\n",
    "                keyPt = mid_scale[l][k]\n",
    "                mx = up_scale[l-1][k-1]\n",
    "                mi = up_scale[l-1][k-1]\n",
    "                # looking up and down\n",
    "                for m in range(l-1, l+2):\n",
    "                    for n in range(k-1, k+2):\n",
    "                        ptup = up_scale[m,n]\n",
    "                        ptlow = low_scale[m,n]\n",
    "                        mx = max(ptup, ptlow, mx)\n",
    "                        mi = min(ptup, ptlow, mi)\n",
    "                        if (keyPt < mx and keyPt > mi):\n",
    "                            flag = 1\n",
    "                            break\n",
    "                    if flag == 1:\n",
    "                            break\n",
    "                            \n",
    "                #looking in mid\n",
    "                for m in range(l-1, l+2):\n",
    "                    for n in range(k-1, k+2):\n",
    "                        # if the keypt condidate itself, ignore\n",
    "                        if not(m == l and n == k):\n",
    "                            ptmid = mid_scale[m,n]\n",
    "                            mx = max(ptmid, mx)\n",
    "                            mi = min(ptmid, mi)\n",
    "                            if (keyPt < mx and keyPt > mi):\n",
    "                                flag = 1\n",
    "                                break\n",
    "                    if flag == 1:\n",
    "                            break\n",
    "\n",
    "                # if keypt is not good, escape\n",
    "                if flag == 0:\n",
    "                    try:\n",
    "                        Keypoints[i,j-1].append((l,k))\n",
    "                    except KeyError:\n",
    "                        Keypoints[i,j-1] = [(l,k)]\n",
    "\n",
    "print(\"Done keypoints\")"
   ]
  },
  {
   "cell_type": "code",
   "execution_count": null,
   "metadata": {},
   "outputs": [],
   "source": [
    "Keypoints"
   ]
  },
  {
   "cell_type": "code",
   "execution_count": null,
   "metadata": {
    "scrolled": false
   },
   "outputs": [],
   "source": [
    "for i in range(octaves):\n",
    "    scale = 1./(2**i)\n",
    "    draw = cv.resize(img, None, fx = scale, fy = scale, interpolation = cv.INTER_CUBIC)\n",
    "    for j in range(scales-3):\n",
    "        for key in Keypoints.keys():\n",
    "            for ke in Keypoints[key]:\n",
    "                cv.circle(draw, ke, 5, (0,0,0), 1)\n",
    "    cv.namedWindow('Keypts', cv.WINDOW_NORMAL)\n",
    "    cv.imshow('Keypts',draw)\n",
    "    cv.waitKey(0)\n",
    "    cv.destroyAllWindows()"
   ]
  },
  {
   "cell_type": "markdown",
   "metadata": {},
   "source": [
    "----\n",
    "\n",
    "# Key Point Detection"
   ]
  },
  {
   "cell_type": "code",
   "execution_count": null,
   "metadata": {},
   "outputs": [],
   "source": [
    "for i in range(numofOctaves):\n",
    "    for j in range(numofScales-3):\n",
    "        cv.namedWindow('keyPtsImg', cv.WINDOW_NORMAL)\n",
    "        cv.imshow('keyPtsImg',np.array(keyPtsImg[i][j]).astype(np.uint8))\n",
    "        cv.waitKey(0)\n",
    "        cv.destroyAllWindows()"
   ]
  },
  {
   "cell_type": "markdown",
   "metadata": {},
   "source": [
    "----\n",
    "\n",
    "# Orientation Assignment "
   ]
  },
  {
   "cell_type": "code",
   "execution_count": null,
   "metadata": {},
   "outputs": [],
   "source": [
    "def oriAssign(octaves):\n",
    "    oc = []\n",
    "    for octave in octaves:\n",
    "        sc = []\n",
    "        numofScales = len(octave)\n",
    "        # selecting images corresponding to each\n",
    "        # keypoint matrix\n",
    "        for l in range(2, numofScales-1):\n",
    "            m = findM(octave[l])\n",
    "            sc.append(m)\n",
    "        oc.append(sc)\n",
    "    return oc\n",
    "\n",
    "def findM(scale):\n",
    "    scale = np.array(scale)\n",
    "    scale = hp.padd(scale,1)\n",
    "    rows, cols = scale.shape\n",
    "    r = np.zeros((rows, cols))\n",
    "    for i in range(1, rows-1):\n",
    "        for j in range(1, cols-1):\n",
    "            dx = int(scale[i, j+1]) - scale[i, j-1]\n",
    "            dy = int(scale[i+1, j]) - scale[i-1, j]\n",
    "            r[i,j] = (dx**2 + dy**2)**0.5\n",
    "    return r[1:-1,1:-1].astype(np.uint8).tolist()\n",
    "\n",
    "def thetaAssign(octaves):\n",
    "    oc = []\n",
    "    for octave in octaves:\n",
    "        sc = []\n",
    "        numofScales = len(octave)\n",
    "        # selecting images corresponding to each\n",
    "        # keypoint matrix\n",
    "        for l in range(2, numofScales-1):\n",
    "            theta = findTheta(octave[l])\n",
    "            sc.append(theta)\n",
    "        oc.append(sc)\n",
    "    return oc\n",
    "\n",
    "import math\n",
    "def findTheta(scale):\n",
    "    scale = np.array(scale)\n",
    "    scale = hp.padd(scale,1)\n",
    "    rows, cols = scale.shape\n",
    "    r = np.zeros((rows, cols))\n",
    "    for i in range(1, rows-1):\n",
    "        for j in range(1, cols-1):\n",
    "            dx = int(scale[i, j+1]) - scale[i, j-1] # to avoid underflow\n",
    "            dy = int(scale[i-1, j]) - scale[i+1, j]\n",
    "            t = math.atan2(dy, dx)*180/np.pi\n",
    "            if t < 0:\n",
    "                r[i,j] = t + 360\n",
    "            else:\n",
    "                r[i,j] = t\n",
    "    return r[1:-1,1:-1].tolist()"
   ]
  },
  {
   "cell_type": "markdown",
   "metadata": {},
   "source": [
    "---\n",
    "\n",
    "# Discriptor"
   ]
  },
  {
   "cell_type": "code",
   "execution_count": null,
   "metadata": {},
   "outputs": [],
   "source": [
    "def "
   ]
  },
  {
   "cell_type": "code",
   "execution_count": null,
   "metadata": {},
   "outputs": [],
   "source": []
  },
  {
   "cell_type": "code",
   "execution_count": null,
   "metadata": {},
   "outputs": [],
   "source": []
  },
  {
   "cell_type": "code",
   "execution_count": null,
   "metadata": {},
   "outputs": [],
   "source": [
    "#demo\n",
    "l = [[[[ 3,  2,  1, 30],\n",
    "       [40, 20,  1,  0],\n",
    "       [30,  1, 20, 30],\n",
    "       [ 1,  6,  2,  3]],\n",
    "      [[ 3,  2,  4,  5],\n",
    "       [ 2,  1, 30, 40],\n",
    "       [40, 50, 43, 21],\n",
    "       [ 1,  0,  2,  0]],\n",
    "      [[ 2,  3,  4,  3],\n",
    "       [ 2,  3,  4,  5],\n",
    "       [ 5,  6,  7,  8],\n",
    "       [ 6,  5,  4,  3]]],\n",
    "     [[[ 3,  2,  1, 30],\n",
    "       [40, 20,  1,  0],\n",
    "       [30,  1, 20, 30],\n",
    "       [ 1,  6,  2,  3]],\n",
    "      [[ 3,  2,  4,  5],\n",
    "       [ 2,  1, 30, 40],\n",
    "       [40, 50, 43, 21],\n",
    "       [ 1,  0,  2,  0]],\n",
    "      [[ 2,  3,  4,  3],\n",
    "       [ 2,  3,  4,  5],\n",
    "       [ 5,  6,  7,  8],\n",
    "       [ 6,  5,  4,  3]]]]"
   ]
  },
  {
   "cell_type": "code",
   "execution_count": null,
   "metadata": {},
   "outputs": [],
   "source": [
    "pkey = {}\n",
    "print(np.array(keyPointDetect(pkey, l)))\n",
    "print(pkey)"
   ]
  },
  {
   "cell_type": "markdown",
   "metadata": {},
   "source": [
    "testing below"
   ]
  },
  {
   "cell_type": "code",
   "execution_count": null,
   "metadata": {},
   "outputs": [],
   "source": [
    "c[0][0]"
   ]
  },
  {
   "cell_type": "code",
   "execution_count": null,
   "metadata": {},
   "outputs": [],
   "source": [
    "findM(c[0][0])"
   ]
  },
  {
   "cell_type": "code",
   "execution_count": null,
   "metadata": {},
   "outputs": [],
   "source": [
    "np.array(findTheta(c[0][0]))"
   ]
  },
  {
   "cell_type": "code",
   "execution_count": null,
   "metadata": {},
   "outputs": [],
   "source": [
    "m = oriAssign(c)\n",
    "theta = thetaAssign(c)\n",
    "print (np.array(m[0][0]))\n",
    "print (np.array(theta[0][0]))"
   ]
  },
  {
   "cell_type": "markdown",
   "metadata": {},
   "source": [
    "### bucketing"
   ]
  },
  {
   "cell_type": "code",
   "execution_count": null,
   "metadata": {},
   "outputs": [],
   "source": [
    "Orientation(c, l, m, theta)"
   ]
  },
  {
   "cell_type": "code",
   "execution_count": null,
   "metadata": {},
   "outputs": [],
   "source": [
    "def Orientation(octaves, keypts, m, theta, k=2**.5, sigma=1):\n",
    "    r=[]\n",
    "    for i in range(len(octaves)):\n",
    "        m_oc = m[i]\n",
    "        theta_oc = theta[i]\n",
    "        keypts_oc = keypts[i]\n",
    "        octave = octaves[i]\n",
    "        er = []\n",
    "        for j in range(2, len(octave)-1):\n",
    "            newsigma = k**(2*i + j)*sigma\n",
    "            m_sc = m_oc[j-2]\n",
    "            theta_sc = theta_oc[j-2]\n",
    "            keypts_sc = keypts_oc[j-2]\n",
    "            scale=octave[j]\n",
    "            er.append(Keyslicer(m_sc,theta_sc,keypts_sc,scale, newsigma))\n",
    "        r.append(er)\n",
    "    return r\n",
    "        \n",
    "def Keyslicer(m, theta, keypts, scale, newsigma):\n",
    "    scale = hp.padd(np.array(scale), 1)\n",
    "    rows, cols = scale.shape\n",
    "    r = np.empty((rows,cols), dtype=object)\n",
    "    # asssumtion ignoring the first 16\n",
    "    for i in range(8, rows-7):\n",
    "        for j in range(8, cols-7):\n",
    "            if keypts[i][j] == 1:\n",
    "                m_slice = np.array(m)[i-8:i+8]\n",
    "                theta_slice = np.array(theta)[i-8:i+8]\n",
    "                r[i,j]=bucketsToStrength(m_slice, theta_slice, newsigma)\n",
    "    return r[1:-1,1:-1]\n",
    "\n",
    "def bucketsToStrength(m_slice, theta_slice, newsigma):\n",
    "    g = hp.gaussian_nor(16, newsigma)\n",
    "    mg = np.dot(m_slice, g)\n",
    "    # getting the histogram\n",
    "    buckets=[]\n",
    "    for i in range(36):\n",
    "        buckets.append([])\n",
    "    for i in range(16):\n",
    "        for j in range(16):\n",
    "            buckets[m_slice[i][j]//10].append([i,j])\n",
    "    \n",
    "    '''\n",
    "    getting the max in the histogram but if\n",
    "    we have multiple buckets with max values,\n",
    "    i take the convention of selecting only first\n",
    "    one\n",
    "    '''\n",
    "    max_bucket = []\n",
    "    bucket_i = 0\n",
    "    for i in range(36):\n",
    "        if len(buckets[i]) > len(max_bucket):\n",
    "            max_bucket = buckets[i]\n",
    "            bucket_i = i\n",
    "            \n",
    "    m_key = 0\n",
    "    for point in max_bucket:\n",
    "        m_key += m_slice[point[0], point[1]] # to avoid overflow\n",
    "    return [bucket_i*10 + 5, m_key]"
   ]
  },
  {
   "cell_type": "code",
   "execution_count": null,
   "metadata": {},
   "outputs": [],
   "source": []
  },
  {
   "cell_type": "markdown",
   "metadata": {},
   "source": [
    "---\n",
    "\n",
    "# Descriptor"
   ]
  },
  {
   "cell_type": "code",
   "execution_count": null,
   "metadata": {},
   "outputs": [],
   "source": []
  }
 ],
 "metadata": {
  "kernelspec": {
   "display_name": "Python 3",
   "language": "python",
   "name": "python3"
  },
  "language_info": {
   "codemirror_mode": {
    "name": "ipython",
    "version": 3
   },
   "file_extension": ".py",
   "mimetype": "text/x-python",
   "name": "python",
   "nbconvert_exporter": "python",
   "pygments_lexer": "ipython3",
   "version": "3.7.0"
  }
 },
 "nbformat": 4,
 "nbformat_minor": 2
}
