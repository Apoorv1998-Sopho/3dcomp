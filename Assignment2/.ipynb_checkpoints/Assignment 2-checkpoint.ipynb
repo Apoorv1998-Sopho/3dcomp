{
 "cells": [
  {
   "cell_type": "code",
   "execution_count": 11,
   "metadata": {},
   "outputs": [],
   "source": [
    "import old_helper as hp\n",
    "import cv2 as cv\n",
    "import numpy as np\n",
    "\n",
    "def generateScales(img, sigma, k=2**.5, numofscales=5, dim = 3):\n",
    "    scales=[]\n",
    "    for i in range(numofscales):\n",
    "        #find the related sigam\n",
    "        newsigma = sigma*(k**i)\n",
    "        scales.append(blur(img,dim, newsigma).tolist())\n",
    "    return scales\n",
    "\n",
    "def blur(img, dim, newsigma):\n",
    "    gauss = hp.gaussian_nor(dim, newsigma)\n",
    "    return hp.covolv(img, gauss, np.uint8)\n",
    "\n",
    "def generateOctaves(img, numofoctaves = 2, k=2**.5, numofscales=5, dim = 3, sigma = 1):\n",
    "    octaves=[]\n",
    "    for i in range(numofoctaves):\n",
    "        newsigma = (k ** (2*(i-1))) * sigma\n",
    "        scale = 1./(2**i)\n",
    "        newbaseimage = cv.resize(img, None, \\\n",
    "                            fx = scale, \\\n",
    "                            fy = scale, \\\n",
    "                            interpolation = cv.INTER_CUBIC)\n",
    "        octaves.append(generateScales(newbaseimage,newsigma))\n",
    "    return octaves\n",
    "\n",
    "def DiffOctaves(octaves):\n",
    "    diffOctaves=[]\n",
    "    for octave in octaves:\n",
    "        diffOctave=[]\n",
    "        numofscales = len(octave)\n",
    "        for i in range(numofscales-1):\n",
    "            diffOctave.append(absolDiff(octave[i+1],octave[i]))\n",
    "        diffOctaves.append(diffOctave)\n",
    "    return diffOctaves\n",
    "\n",
    "\n",
    "'''\n",
    "Defining a function to avoid underflow\n",
    "'''\n",
    "def absolDiff(img2, img1):\n",
    "    rows = len(img2)\n",
    "    cols = len(img2[0])\n",
    "    diff = np.zeros((rows, cols))    \n",
    "    for i in range(rows):\n",
    "        for k in range(cols):\n",
    "            # making as type int because of underflow and realted problems\n",
    "            diff[i,k]=abs(int(img2[i][k]) - int(img1[i][k]))\n",
    "    return diff.astype(np.uint8).tolist()\n"
   ]
  },
  {
   "cell_type": "code",
   "execution_count": null,
   "metadata": {},
   "outputs": [],
   "source": [
    "# read img and convert to grey (resized)\n",
    "I1 = hp.readImg_Grey_Resize(file='imgs/3_1.jpg', scale=.2)"
   ]
  },
  {
   "cell_type": "code",
   "execution_count": 12,
   "metadata": {},
   "outputs": [
    {
     "name": "stdout",
     "output_type": "stream",
     "text": [
      "[[ 33.53117981  44.84884801  59.13849469  69.33319714  61.3970868\n",
      "   29.05150726  16.69712263]\n",
      " [ 65.01698368  85.50423885 103.12241431 113.6409101  111.5650264\n",
      "   66.49820461  29.03762545]\n",
      " [ 64.64222629  84.8734857   93.9233018  115.46902378 123.05637568\n",
      "   96.4972626   44.50552111]\n",
      " [ 30.7165967   40.11163077  60.86007822  78.84899282  96.17940821\n",
      "   81.25445184  39.97975545]]\n",
      "Below are the 5 scales generated\n",
      "[[[ 35  36  59  81  62  30  18]\n",
      "  [ 76  90  97 118 107  63  26]\n",
      "  [ 69  92  94 119 133  97  44]\n",
      "  [ 25  40  53  83 104  85  46]]\n",
      "\n",
      " [[ 34  42  59  73  61  29  17]\n",
      "  [ 68  87 101 115 110  65  28]\n",
      "  [ 66  87  94 116 126  96  44]\n",
      "  [ 29  40  58  80  98  82  42]]\n",
      "\n",
      " [[ 33  44  59  69  61  29  16]\n",
      "  [ 65  85 103 113 111  66  29]\n",
      "  [ 64  84  93 115 123  96  44]\n",
      "  [ 30  40  60  78  96  81  39]]\n",
      "\n",
      " [[ 33  46  58  67  61  28  16]\n",
      "  [ 63  84 104 112 112  66  29]\n",
      "  [ 63  83  93 114 121  96  44]\n",
      "  [ 31  39  62  78  94  80  39]]\n",
      "\n",
      " [[ 32  46  58  66  60  28  16]\n",
      "  [ 62  83 104 112 112  67  29]\n",
      "  [ 62  83  93 114 120  96  44]\n",
      "  [ 32  39  62  77  94  80  38]]]\n"
     ]
    }
   ],
   "source": [
    "# testing generate scales\n",
    "A = np.array([[ 12, 12, 12,233, 22, 54, 34],\n",
    "              [234, 35,124,112, 92, 33, 23],\n",
    "              [ 34,234, 52,135,224,112, 12],\n",
    "              [ 12, 12, 12,124,152, 95,124]])\n",
    "\n",
    "b = generateScales(A, 1)\n",
    "\n",
    "a = hp.gaussian_nor(3, 2)\n",
    "a = hp.covolv(A, a)\n",
    "\n",
    "print (a)\n",
    "print (\"Below are the 5 scales generated\")\n",
    "print (np.asarray(b))"
   ]
  },
  {
   "cell_type": "code",
   "execution_count": 13,
   "metadata": {},
   "outputs": [
    {
     "name": "stdout",
     "output_type": "stream",
     "text": [
      "Below is 1st octave\n",
      "[[[ 28  16  40 158  47  42  27]\n",
      "  [154  73 101 121  95  47  22]\n",
      "  [ 61 160  77 130 184 104  30]\n",
      "  [ 13  30  27 104 134  94  87]]\n",
      "\n",
      " [[ 35  27  55 104  60  33  22]\n",
      "  [ 98  90  94 122 102  58  24]\n",
      "  [ 72 111  91 124 150  99  41]\n",
      "  [ 20  39  43  90 115  89  59]]\n",
      "\n",
      " [[ 35  36  59  81  62  30  18]\n",
      "  [ 76  90  97 118 107  63  26]\n",
      "  [ 69  92  94 119 133  97  44]\n",
      "  [ 25  40  53  83 104  85  46]]\n",
      "\n",
      " [[ 34  42  59  73  61  29  17]\n",
      "  [ 68  87 101 115 110  65  28]\n",
      "  [ 66  87  94 116 126  96  44]\n",
      "  [ 29  40  58  80  98  82  42]]\n",
      "\n",
      " [[ 33  44  59  69  61  29  16]\n",
      "  [ 65  85 103 113 111  66  29]\n",
      "  [ 64  84  93 115 123  96  44]\n",
      "  [ 30  40  60  78  96  81  39]]]\n",
      "Below is 2nd octave\n",
      "[[[46 67 56 29]\n",
      "  [43 68 65 39]]\n",
      "\n",
      " [[42 63 55 30]\n",
      "  [41 64 59 35]]\n",
      "\n",
      " [[40 62 55 31]\n",
      "  [40 62 56 33]]\n",
      "\n",
      " [[40 61 54 31]\n",
      "  [39 61 55 32]]\n",
      "\n",
      " [[39 61 54 31]\n",
      "  [39 61 54 32]]]\n"
     ]
    }
   ],
   "source": [
    "# Octaves generated for lower are wird\n",
    "typ=np.uint8\n",
    "c = generateOctaves(A.astype(typ))\n",
    "print (\"Below is 1st octave\")\n",
    "print (np.asarray(c[0]))\n",
    "print (\"Below is 2nd octave\")\n",
    "print (np.asarray(c[1]))"
   ]
  },
  {
   "cell_type": "code",
   "execution_count": 14,
   "metadata": {},
   "outputs": [
    {
     "name": "stdout",
     "output_type": "stream",
     "text": [
      "Below are dogs in 1st octave\n",
      "[[[ 7 11 15 54 13  9  5]\n",
      "  [56 17  7  1  7 11  2]\n",
      "  [11 49 14  6 34  5 11]\n",
      "  [ 7  9 16 14 19  5 28]]\n",
      "\n",
      " [[ 0  9  4 23  2  3  4]\n",
      "  [22  0  3  4  5  5  2]\n",
      "  [ 3 19  3  5 17  2  3]\n",
      "  [ 5  1 10  7 11  4 13]]\n",
      "\n",
      " [[ 1  6  0  8  1  1  1]\n",
      "  [ 8  3  4  3  3  2  2]\n",
      "  [ 3  5  0  3  7  1  0]\n",
      "  [ 4  0  5  3  6  3  4]]\n",
      "\n",
      " [[ 1  2  0  4  0  0  1]\n",
      "  [ 3  2  2  2  1  1  1]\n",
      "  [ 2  3  1  1  3  0  0]\n",
      "  [ 1  0  2  2  2  1  3]]]\n",
      "Below are dogs in 2nd octave\n",
      "[[[4 4 1 1]\n",
      "  [2 4 6 4]]\n",
      "\n",
      " [[2 1 0 1]\n",
      "  [1 2 3 2]]\n",
      "\n",
      " [[0 1 1 0]\n",
      "  [1 1 1 1]]\n",
      "\n",
      " [[1 0 0 0]\n",
      "  [0 0 1 0]]]\n"
     ]
    }
   ],
   "source": [
    "d1 = DiffOctaves(c)\n",
    "print (\"Below are dogs in 1st octave\")\n",
    "print (np.asarray(d1[0]))\n",
    "print (\"Below are dogs in 2nd octave\")\n",
    "print (np.asarray(d1[1]))"
   ]
  },
  {
   "cell_type": "code",
   "execution_count": 15,
   "metadata": {},
   "outputs": [
    {
     "name": "stdout",
     "output_type": "stream",
     "text": [
      "[[  0   1   1]\n",
      " [233   0   0]\n",
      " [  0   0   0]]\n"
     ]
    }
   ],
   "source": [
    "# testing absoDiff.\n",
    "A1 = np.array([[12,12,12],\n",
    "         [234,35,124],\n",
    "         [34,234,52]])\n",
    "B1 = np.array([[12,13,11],\n",
    "         [1,35,124],\n",
    "         [34,234,52]])\n",
    "print(np.array(absolDiff(A1, B1)))"
   ]
  },
  {
   "cell_type": "markdown",
   "metadata": {},
   "source": [
    "----\n",
    "\n",
    "# Key Point Detection"
   ]
  },
  {
   "cell_type": "code",
   "execution_count": 16,
   "metadata": {},
   "outputs": [],
   "source": [
    "def keyPointDetect(diffOctaves):\n",
    "    numofoctaves = len(diffOctaves)\n",
    "    numofDogs = len(diffOctaves[0])\n",
    "    #assuming we have more than 3 scales per octave\n",
    "    \n",
    "    #for each octave\n",
    "    keyPts=[]\n",
    "    for i in range(numofoctaves):\n",
    "        diffOctave = diffOctaves[i]\n",
    "        # for middle scales\n",
    "        for j in range(1, numofDogs - 1):\n",
    "            low_scale = diffOctave[j+1]\n",
    "            mid_scale = diffOctave[j]\n",
    "            upp_scale = diffOctave[j-1]\n",
    "            keyPts.append(analyseScale(upp_scale,mid_scale,low_scale))\n",
    "    return keyPts\n",
    "\n",
    "            \n",
    "# function assumes, 3 scales provided. \n",
    "# returns true/false matrix wrt keypts\n",
    "def analyseScale(upp_scale,mid_scale,low_scale):\n",
    "    rows = len(upp_scale)\n",
    "    cols = len(upp_scale[0])\n",
    "    KeyPoints = np.zeros((rows, cols))\n",
    "    # for not boundry points\n",
    "    for i in range(1, rows-1):\n",
    "        for j in range(1, cols-1):\n",
    "            up_slice=np.array(upp_scale)[i-1:i+2,j-1:j+2]\n",
    "            mid_slice=np.array(mid_scale)[i-1:i+2,j-1:j+2]\n",
    "            low_slice=np.array(low_scale)[i-1:i+2,j-1:j+2]\n",
    "            KeyPoints[i,j]=checkKeyPt(up_slice, mid_slice, low_slice)\n",
    "    return KeyPoints\n",
    "\n",
    "\n",
    "# function assumes, 3x3 slices provided. returns true/false\n",
    "def checkKeyPt(up_slice, mid_slice, low_slice):\n",
    "    keyPt = mid_slice[1][1]\n",
    "    # as the number range from [0,255]\n",
    "    mx = -1\n",
    "    mi = 256\n",
    "    rows = 3\n",
    "    cols = 3\n",
    "    #comparing with upper_slice\n",
    "    for n_slice in [up_slice, low_slice]:\n",
    "        for i in range(rows):\n",
    "            for j in range(cols):\n",
    "                pt = n_slice[i][j]\n",
    "                mi = min(pt, mi)\n",
    "                mx = max(pt, mx)\n",
    "                # if keypt is between min max, return\n",
    "                if (keyPt < mx and keyPt > mi):\n",
    "                    return False\n",
    "\n",
    "    # in middle layer ignoring the mid pt.\n",
    "    for i in [0,2]:\n",
    "        for j in [0,2]:\n",
    "            # if already more than min or smaller than max\n",
    "            # return False.\n",
    "            pt = mid_slice[i][j]\n",
    "            mi = min(pt, mi)\n",
    "            mx = max(pt, mx)\n",
    "            if (keyPt < mx and keyPt > mi):\n",
    "                return False\n",
    "    return True"
   ]
  },
  {
   "cell_type": "code",
   "execution_count": 17,
   "metadata": {},
   "outputs": [
    {
     "data": {
      "text/plain": [
       "[array([[0., 0., 0., 0., 0., 0., 0.],\n",
       "        [0., 1., 0., 0., 0., 0., 0.],\n",
       "        [0., 0., 0., 0., 0., 0., 0.],\n",
       "        [0., 0., 0., 0., 0., 0., 0.]]), array([[0., 0., 0., 0., 0., 0., 0.],\n",
       "        [0., 0., 0., 0., 0., 0., 0.],\n",
       "        [0., 0., 1., 0., 0., 0., 0.],\n",
       "        [0., 0., 0., 0., 0., 0., 0.]]), array([[0., 0., 0., 0.],\n",
       "        [0., 0., 0., 0.]]), array([[0., 0., 0., 0.],\n",
       "        [0., 0., 0., 0.]])]"
      ]
     },
     "execution_count": 17,
     "metadata": {},
     "output_type": "execute_result"
    }
   ],
   "source": [
    "l = keyPointDetect(d1)\n",
    "l"
   ]
  },
  {
   "cell_type": "code",
   "execution_count": 18,
   "metadata": {},
   "outputs": [
    {
     "data": {
      "text/plain": [
       "array([[0., 0., 0., 0., 0., 0., 0.],\n",
       "       [0., 1., 1., 0., 0., 0., 0.],\n",
       "       [0., 0., 1., 0., 0., 0., 0.],\n",
       "       [0., 0., 0., 0., 0., 0., 0.]])"
      ]
     },
     "execution_count": 18,
     "metadata": {},
     "output_type": "execute_result"
    }
   ],
   "source": [
    "l = [[[ 7, 11, 13, 60, 13,  4,  1],\n",
    "      [56, 17, 14, 19, 23, 56,  6],\n",
    "      [11, 49,  6,  8, 18, 19, 12],\n",
    "      [ 7,  9, 13, 26,  3,  2, 33]],\n",
    "     [[ 0,  9,  0, 26,  5,  5,  2],\n",
    "      [22,  0,  0,  6,  9, 24,  0],\n",
    "      [ 3, 19,  0,  2,  3,  6,  7],\n",
    "      [ 5,  1,  6, 11,  4,  0, 15]],\n",
    "     [[ 1,  6,  1, 10,  2,  4,  2],\n",
    "      [ 8,  3,  2,  1,  4,  9,  2],\n",
    "      [ 3,  5,  1,  1,  0,  1,  3],\n",
    "      [ 4,  0,  4,  3,  3,  0,  7]]]\n",
    "analyseScale(l[0],l[1],l[2])"
   ]
  },
  {
   "cell_type": "markdown",
   "metadata": {},
   "source": [
    "----\n",
    "\n",
    "# Orientation Assignment "
   ]
  },
  {
   "cell_type": "code",
   "execution_count": 144,
   "metadata": {},
   "outputs": [],
   "source": [
    "def oriAssign(octaves):\n",
    "    oc = []\n",
    "    for octave in octaves:\n",
    "        sc = []\n",
    "        numofScales = len(octave)\n",
    "        # selecting images corresponding to each\n",
    "        # keypoint matrix\n",
    "        for l in range(2, numofScales-1):\n",
    "            m = findM(octave[l])\n",
    "            sc.append(m)\n",
    "        oc.append(sc)\n",
    "    return oc\n",
    "\n",
    "def findM(scale):\n",
    "    scale = np.array(scale)\n",
    "    scale = hp.padd(scale,1)\n",
    "    rows, cols = scale.shape\n",
    "    r = np.zeros((rows, cols))\n",
    "    for i in range(1, rows-1):\n",
    "        for j in range(1, cols-1):\n",
    "            dx = int(scale[i, j+1]) - scale[i, j-1]\n",
    "            dy = int(scale[i+1, j]) - scale[i-1, j]\n",
    "            r[i,j] = (dx**2 + dy**2)**0.5\n",
    "    return r[1:-1,1:-1].astype(np.uint8).tolist()\n",
    "\n",
    "def thetaAssign(octaves):\n",
    "    oc = []\n",
    "    for octave in octaves:\n",
    "        sc = []\n",
    "        numofScales = len(octave)\n",
    "        # selecting images corresponding to each\n",
    "        # keypoint matrix\n",
    "        for l in range(2, numofScales-1):\n",
    "            theta = findTheta(octave[l])\n",
    "            sc.append(theta)\n",
    "        oc.append(sc)\n",
    "    return oc\n",
    "\n",
    "import math\n",
    "def findTheta(scale):\n",
    "    scale = np.array(scale)\n",
    "    scale = hp.padd(scale,1)\n",
    "    rows, cols = scale.shape\n",
    "    r = np.zeros((rows, cols))\n",
    "    for i in range(1, rows-1):\n",
    "        for j in range(1, cols-1):\n",
    "            dx = int(scale[i, j+1]) - scale[i, j-1] # to avoid underflow\n",
    "            dy = int(scale[i-1, j]) - scale[i+1, j]\n",
    "            t = math.atan2(dy, dx)*180/np.pi\n",
    "            if t < 0:\n",
    "                r[i,j] = t + 360\n",
    "            else:\n",
    "                r[i,j] = t\n",
    "    return r[1:-1,1:-1].tolist()"
   ]
  },
  {
   "cell_type": "markdown",
   "metadata": {},
   "source": [
    "testing below"
   ]
  },
  {
   "cell_type": "code",
   "execution_count": 132,
   "metadata": {},
   "outputs": [
    {
     "data": {
      "text/plain": [
       "[[28, 16, 40, 158, 47, 42, 27],\n",
       " [154, 73, 101, 121, 95, 47, 22],\n",
       " [61, 160, 77, 130, 184, 104, 30],\n",
       " [13, 30, 27, 104, 134, 94, 87]]"
      ]
     },
     "execution_count": 132,
     "metadata": {},
     "output_type": "execute_result"
    }
   ],
   "source": [
    "c[0][0]"
   ]
  },
  {
   "cell_type": "code",
   "execution_count": 133,
   "metadata": {},
   "outputs": [
    {
     "data": {
      "text/plain": [
       "[[154, 73, 174, 121, 149, 51, 47],\n",
       " [80, 153, 60, 28, 155, 95, 47],\n",
       " [213, 45, 79, 108, 46, 161, 122],\n",
       " [67, 160, 106, 168, 184, 114, 98]]"
      ]
     },
     "execution_count": 133,
     "metadata": {},
     "output_type": "execute_result"
    }
   ],
   "source": [
    "findM(c[0][0])"
   ]
  },
  {
   "cell_type": "code",
   "execution_count": 136,
   "metadata": {},
   "outputs": [
    {
     "data": {
      "text/plain": [
       "array([[275.93152692, 279.33499846, 324.57699006, 273.31094151,\n",
       "        219.31629366, 246.94869908, 207.64597536],\n",
       "       [335.67442476, 249.79358144, 322.37376636, 102.09475708,\n",
       "        241.62447814, 220.34174589, 183.65222278],\n",
       "       [ 41.38811499,  69.59011717, 112.06789956,   9.02761295,\n",
       "        236.30993247, 196.97191691, 212.00538321],\n",
       "       [ 63.8118893 ,  84.9993554 ,  46.13817701,  50.54299209,\n",
       "         93.11084065, 114.31930861, 162.29957221]])"
      ]
     },
     "execution_count": 136,
     "metadata": {},
     "output_type": "execute_result"
    }
   ],
   "source": [
    "np.array(findTheta(c[0][0]))"
   ]
  },
  {
   "cell_type": "code",
   "execution_count": 157,
   "metadata": {},
   "outputs": [
    {
     "name": "stdout",
     "output_type": "stream",
     "text": [
      "[[ 84  93 106 118 118  76  39]\n",
      " [ 96  59  44  39  89 105  68]\n",
      " [105  55  51  52  22  91  99]\n",
      " [ 79  96 103 129 133 113  95]]\n",
      "[[295.34617594 284.93141718 294.88741171 271.45635863 244.51587301\n",
      "  235.0690627  220.91438322]\n",
      " [339.30454927 290.55604522 308.65980825 284.74356284 232.23692203\n",
      "  219.59620864 202.42586192]\n",
      " [ 29.00169942  63.43494882  58.46520809  41.90594194 172.23483398\n",
      "  193.88466769 191.65029944]\n",
      " [ 59.89869543  73.07248694  65.41842552  66.80140949  89.13847427\n",
      "  120.87681308 152.63178957]]\n"
     ]
    }
   ],
   "source": [
    "m = oriAssign(c)\n",
    "theta = thetaAssign(c)\n",
    "print (np.array(m[0][0]))\n",
    "print (np.array(theta[0][0]))"
   ]
  },
  {
   "cell_type": "markdown",
   "metadata": {},
   "source": [
    "### bucketing"
   ]
  },
  {
   "cell_type": "code",
   "execution_count": 160,
   "metadata": {},
   "outputs": [
    {
     "data": {
      "text/plain": [
       "[[array([[None, None, None, None, None, None, None],\n",
       "         [None, None, None, None, None, None, None],\n",
       "         [None, None, None, None, None, None, None],\n",
       "         [None, None, None, None, None, None, None]], dtype=object),\n",
       "  array([[None, None, None, None, None, None, None],\n",
       "         [None, None, None, None, None, None, None],\n",
       "         [None, None, None, None, None, None, None],\n",
       "         [None, None, None, None, None, None, None]], dtype=object)],\n",
       " [array([[None, None, None, None],\n",
       "         [None, None, None, None]], dtype=object),\n",
       "  array([[None, None, None, None],\n",
       "         [None, None, None, None]], dtype=object)]]"
      ]
     },
     "execution_count": 160,
     "metadata": {},
     "output_type": "execute_result"
    }
   ],
   "source": [
    "Orientation(c, l, m, theta)"
   ]
  },
  {
   "cell_type": "code",
   "execution_count": 159,
   "metadata": {},
   "outputs": [],
   "source": [
    "def Orientation(octaves, keypts, m, theta, k=2**.5, sigma=1):\n",
    "    r=[]\n",
    "    for i in range(len(octaves)):\n",
    "        m_oc = m[i]\n",
    "        theta_oc = theta[i]\n",
    "        keypts_oc = keypts[i]\n",
    "        octave = octaves[i]\n",
    "        er = []\n",
    "        for j in range(2, len(octave)-1):\n",
    "            newsigma = k**(2*i + j)*sigma\n",
    "            m_sc = m_oc[j-2]\n",
    "            theta_sc = theta_oc[j-2]\n",
    "            keypts_sc = keypts_oc[j-2]\n",
    "            scale=octave[j]\n",
    "            er.append(Keyslicer(m_sc,theta_sc,keypts_sc,scale, newsigma))\n",
    "        r.append(er)\n",
    "    return r\n",
    "        \n",
    "def Keyslicer(m, theta, keypts, scale, newsigma):\n",
    "    scale = hp.padd(np.array(scale), 1)\n",
    "    rows, cols = scale.shape\n",
    "    r = np.empty((rows,cols), dtype=object)\n",
    "    # asssumtion ignoring the first 16\n",
    "    for i in range(8, rows-7):\n",
    "        for j in range(8, cols-7):\n",
    "            if keypts[i][j] == 1:\n",
    "                m_slice = np.array(m)[i-8:i+8]\n",
    "                theta_slice = np.array(theta)[i-8:i+8]\n",
    "                r[i,j]=bucketsToStrength(m_slice, theta_slice, newsigma)\n",
    "    return r[1:-1,1:-1]\n",
    "\n",
    "def bucketsToStrength(m_slice, theta_slice, newsigma):\n",
    "    g = hp.gaussian_nor(16, newsigma)\n",
    "    mg = np.dot(m_slice, g)\n",
    "    # getting the histogram\n",
    "    buckets=[]\n",
    "    for i in range(36):\n",
    "        buckets.append([])\n",
    "    for i in range(16):\n",
    "        for j in range(16):\n",
    "            buckets[m_slice[i][j]//10].append([i,j])\n",
    "    \n",
    "    '''\n",
    "    getting the max in the histogram but if\n",
    "    we have multiple buckets with max values,\n",
    "    i take the convention of selecting only first\n",
    "    one\n",
    "    '''\n",
    "    max_bucket = []\n",
    "    bucket_i = 0\n",
    "    for i in range(36):\n",
    "        if len(buckets[i]) > len(max_bucket):\n",
    "            max_bucket = buckets[i]\n",
    "            bucket_i = i\n",
    "            \n",
    "    m_key = 0\n",
    "    for point in max_bucket:\n",
    "        m_key += m_slice[point[0], point[1]] # to avoid overflow\n",
    "    \n",
    "    return [bucket_i*10 + 5, m_key]"
   ]
  },
  {
   "cell_type": "code",
   "execution_count": null,
   "metadata": {},
   "outputs": [],
   "source": []
  }
 ],
 "metadata": {
  "kernelspec": {
   "display_name": "Python 3",
   "language": "python",
   "name": "python3"
  },
  "language_info": {
   "codemirror_mode": {
    "name": "ipython",
    "version": 3
   },
   "file_extension": ".py",
   "mimetype": "text/x-python",
   "name": "python",
   "nbconvert_exporter": "python",
   "pygments_lexer": "ipython3",
   "version": "3.7.0"
  }
 },
 "nbformat": 4,
 "nbformat_minor": 2
}
