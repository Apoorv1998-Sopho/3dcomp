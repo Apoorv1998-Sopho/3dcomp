{
 "cells": [
  {
   "cell_type": "code",
   "execution_count": 45,
   "metadata": {},
   "outputs": [],
   "source": [
    "import old_helper as hp\n",
    "import cv2 as cv\n",
    "import numpy as np\n",
    "\n",
    "def generateScales(img, sigma, k=2**.5, numofscales=5, dim = 3):\n",
    "    scales=[]\n",
    "    for i in range(numofscales):\n",
    "        #find the related sigam\n",
    "        newsigma = sigma*(k**i)\n",
    "        scales.append(blur(img,dim, newsigma))\n",
    "    return scales\n",
    "\n",
    "def blur(img, dim, newsigma):\n",
    "    gauss = hp.gaussian_nor(dim, newsigma)\n",
    "    return hp.covolv(img, gauss, np.uint8)\n",
    "\n",
    "def generateOctaves(img, numofoctaves = 2, k=2**.5, numofscales=5, dim = 3, sigma = 1):\n",
    "    octaves=[]\n",
    "    for i in range(numofoctaves):\n",
    "        newsigma = (k ** (2*(i-1))) * sigma\n",
    "        scale = 1./(2**i)\n",
    "        newbaseimage = cv.resize(img, None, \\\n",
    "                            fx = scale, \\\n",
    "                            fy = scale, \\\n",
    "                            interpolation = cv.INTER_CUBIC)\n",
    "        octaves.append(generateScales(newbaseimage,newsigma))\n",
    "    return octaves\n",
    "\n",
    "def DiffOctaves(octaves):\n",
    "    diffOctaves=[]\n",
    "    for octave in octaves:\n",
    "        diffOctave=[]\n",
    "        numofscales = len(octave)\n",
    "        for i in range(numofscales-1):\n",
    "            diffOctave.append(absolDiff(octave[i+1],octave[i]))\n",
    "        diffOctaves.append(diffOctave)\n",
    "    return diffOctaves\n",
    "\n",
    "\n",
    "'''\n",
    "Defining a function to avoid underflow\n",
    "'''\n",
    "def absolDiff(img2, img1):\n",
    "    diff = []\n",
    "    cols = len(img2)\n",
    "    rows = len(img2[0])\n",
    "    \n",
    "    for i in range(cols):\n",
    "        diff.append([])\n",
    "        for k in range(rows):\n",
    "            diff[i].append(abs(int(img2[i][k]) - int(img1[i][k])))\n",
    "    return np.array(diff).astype(np.uint8)\n"
   ]
  },
  {
   "cell_type": "code",
   "execution_count": 46,
   "metadata": {},
   "outputs": [
    {
     "name": "stdout",
     "output_type": "stream",
     "text": [
      "[[33.53117981 44.84884801 20.83369945]\n",
      " [65.01698368 85.50423885 52.70662297]\n",
      " [62.03462985 81.04347248 51.6915708 ]]\n",
      "Below is the Scales generated\n"
     ]
    },
    {
     "data": {
      "text/plain": [
       "[array([[35, 36, 21],\n",
       "        [76, 90, 56],\n",
       "        [67, 89, 57]], dtype=uint8), array([[34, 42, 21],\n",
       "        [68, 87, 53],\n",
       "        [64, 83, 53]], dtype=uint8), array([[33, 44, 20],\n",
       "        [65, 85, 52],\n",
       "        [62, 81, 51]], dtype=uint8), array([[33, 46, 20],\n",
       "        [63, 84, 52],\n",
       "        [60, 80, 50]], dtype=uint8), array([[32, 46, 20],\n",
       "        [62, 83, 52],\n",
       "        [60, 79, 50]], dtype=uint8)]"
      ]
     },
     "execution_count": 46,
     "metadata": {},
     "output_type": "execute_result"
    }
   ],
   "source": [
    "# testing generate scales\n",
    "A = np.array([[12,12,12],\n",
    "         [234,35,124],\n",
    "         [34,234,52]])\n",
    "\n",
    "b = generateScales(A, 1)\n",
    "\n",
    "a = hp.gaussian_nor(3, 2)\n",
    "a = hp.covolv(A, a)\n",
    "\n",
    "print (a)\n",
    "print (\"Below is the Scales generated\")\n",
    "b"
   ]
  },
  {
   "cell_type": "code",
   "execution_count": 47,
   "metadata": {},
   "outputs": [
    {
     "data": {
      "text/plain": [
       "[[array([[ 28,  16,  19],\n",
       "         [154,  73,  87],\n",
       "         [ 60, 159,  62]], dtype=uint8), array([[ 35,  27,  22],\n",
       "         [ 98,  90,  64],\n",
       "         [ 70, 108,  62]], dtype=uint8), array([[35, 36, 21],\n",
       "         [76, 90, 56],\n",
       "         [67, 89, 57]], dtype=uint8), array([[34, 42, 21],\n",
       "         [68, 87, 53],\n",
       "         [64, 83, 53]], dtype=uint8), array([[33, 44, 20],\n",
       "         [65, 85, 52],\n",
       "         [62, 81, 51]], dtype=uint8)], [array([[44, 39],\n",
       "         [48, 39]], dtype=uint8), array([[40, 37],\n",
       "         [41, 38]], dtype=uint8), array([[38, 36],\n",
       "         [38, 37]], dtype=uint8), array([[37, 36],\n",
       "         [37, 36]], dtype=uint8), array([[36, 36],\n",
       "         [36, 36]], dtype=uint8)]]"
      ]
     },
     "execution_count": 47,
     "metadata": {},
     "output_type": "execute_result"
    }
   ],
   "source": [
    "# Octaves generated for lower are wird\n",
    "typ=np.uint8\n",
    "c = generateOctaves(A.astype(typ))\n",
    "c"
   ]
  },
  {
   "cell_type": "code",
   "execution_count": 48,
   "metadata": {},
   "outputs": [
    {
     "data": {
      "text/plain": [
       "[[array([[ 7, 11,  3],\n",
       "         [56, 17, 23],\n",
       "         [10, 51,  0]], dtype=uint8), array([[ 0,  9,  1],\n",
       "         [22,  0,  8],\n",
       "         [ 3, 19,  5]], dtype=uint8), array([[1, 6, 0],\n",
       "         [8, 3, 3],\n",
       "         [3, 6, 4]], dtype=uint8), array([[1, 2, 1],\n",
       "         [3, 2, 1],\n",
       "         [2, 2, 2]], dtype=uint8)], [array([[4, 2],\n",
       "         [7, 1]], dtype=uint8), array([[2, 1],\n",
       "         [3, 1]], dtype=uint8), array([[1, 0],\n",
       "         [1, 1]], dtype=uint8), array([[1, 0],\n",
       "         [1, 0]], dtype=uint8)], [array([[2]], dtype=uint8),\n",
       "  array([[0]], dtype=uint8),\n",
       "  array([[0]], dtype=uint8),\n",
       "  array([[0]], dtype=uint8)]]"
      ]
     },
     "execution_count": 48,
     "metadata": {},
     "output_type": "execute_result"
    }
   ],
   "source": [
    "# making as type int because of underflow and realted problems\n",
    "d1 = DiffOctaves(c)\n",
    "d # looking at first octaves dog"
   ]
  },
  {
   "cell_type": "code",
   "execution_count": 24,
   "metadata": {},
   "outputs": [
    {
     "data": {
      "text/plain": [
       "[[0, 1, 1], [233, 0, 0], [0, 0, 0]]"
      ]
     },
     "execution_count": 24,
     "metadata": {},
     "output_type": "execute_result"
    }
   ],
   "source": [
    "# testing absoDiff.\n",
    "B = np.array([[12,13,11],\n",
    "         [1,35,124],\n",
    "         [34,234,52]])\n",
    "absolDiff(A, B)"
   ]
  },
  {
   "cell_type": "markdown",
   "metadata": {},
   "source": [
    "----\n",
    "\n",
    "# Key Point Detection"
   ]
  },
  {
   "cell_type": "code",
   "execution_count": null,
   "metadata": {},
   "outputs": [],
   "source": [
    "def keyPointDetect(diffOctaves):\n",
    "    numofoctaves = len(diffOctaves)\n",
    "    numofscales = len(diffOctaves[0])\n",
    "    #assuming we have more than 3 scales per octave\n",
    "    \n",
    "    #for each octave\n",
    "    keyPts=[]\n",
    "    for i in range(numofoctaves):\n",
    "        keyPts.append([])\n",
    "        # for middle scales\n",
    "        diffOctave = diffOctaves[i]\n",
    "        for j in range(1, numofscales - 1):\n",
    "            upp_scale = diffOctave[j+1]\n",
    "            mid_scale = diffOctave[j]\n",
    "            low_scale = diffOctave[j-1]\n",
    "            \n",
    "            # for kernel size of 3, check neigbors\n",
    "            cols = len(upp_scale[0])\n",
    "            rows = len(upp_scale)\n",
    "            for l in range()\n",
    "            diffOctave\n",
    "            \n",
    "    "
   ]
  },
  {
   "cell_type": "code",
   "execution_count": null,
   "metadata": {},
   "outputs": [],
   "source": []
  }
 ],
 "metadata": {
  "kernelspec": {
   "display_name": "Python 3",
   "language": "python",
   "name": "python3"
  },
  "language_info": {
   "codemirror_mode": {
    "name": "ipython",
    "version": 3
   },
   "file_extension": ".py",
   "mimetype": "text/x-python",
   "name": "python",
   "nbconvert_exporter": "python",
   "pygments_lexer": "ipython3",
   "version": "3.7.0"
  }
 },
 "nbformat": 4,
 "nbformat_minor": 2
}
