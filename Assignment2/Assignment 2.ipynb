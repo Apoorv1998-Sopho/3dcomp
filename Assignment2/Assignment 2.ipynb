{
 "cells": [
  {
   "cell_type": "markdown",
   "metadata": {},
   "source": [
    "# Scale-space decomposition"
   ]
  },
  {
   "cell_type": "code",
   "execution_count": 1,
   "metadata": {
    "scrolled": true
   },
   "outputs": [
    {
     "name": "stdout",
     "output_type": "stream",
     "text": [
      "Blurring done\n",
      "Dogs calculated\n"
     ]
    }
   ],
   "source": [
    "import old_helper as hp\n",
    "from scipy.ndimage import gaussian_filter\n",
    "import cv2 as cv\n",
    "import numpy as np\n",
    "\n",
    "# container is a dictionary in which we have tuples as keys, (octave, scale) and numpy arrays as vals\n",
    "Container = {}\n",
    "Dogs = {}\n",
    "Keypoints = {}\n",
    "sigma = 1\n",
    "gaussian_dim = 3\n",
    "scales = 5\n",
    "octaves = 2\n",
    "k = 2**.5\n",
    "\n",
    "# read img and convert to grey (resized)\n",
    "img = hp.readImg_Grey_Resize(file='imgs/5_1.jpg', scale=.3)\n",
    "\n",
    "# guassian blur\n",
    "def blur(img, dim, newsigma):\n",
    "    gauss = hp.gaussian_nor(dim, newsigma)\n",
    "    return hp.covolv(img, gauss)\n",
    "\n",
    "def absolDiff(img2, img1):\n",
    "    rows, cols = img2.shape\n",
    "    diff = np.zeros((rows, cols))    \n",
    "    for i in range(rows):\n",
    "        for k in range(cols):\n",
    "            # making as type int because of underflow and realted problems\n",
    "            diff[i,k]=abs(int(img2[i][k]) - int(img1[i][k]))\n",
    "    return diff\n",
    "\n",
    "# Q1\n",
    "# generating scale space\n",
    "for i in range(octaves):\n",
    "    # For different octaves\n",
    "    scale = 1./(2**i)\n",
    "    newBaseImg = cv.resize(img, None, fx = scale, fy = scale, interpolation = cv.INTER_CUBIC)\n",
    "    for j in range(scales):\n",
    "        #find the related sigam\n",
    "        newsigma = sigma*(k**((i*2)+j))\n",
    "        Container[(i,j)]=blur(newBaseImg.astype(np.float32), gaussian_dim, newsigma)\n",
    "print('Blurring done')\n",
    "#imageshowing\n",
    "for i in range(octaves):\n",
    "    for j in range(scales):\n",
    "        cv.namedWindow('gaussed', cv.WINDOW_NORMAL)\n",
    "        cv.imshow('gaussed',Container[(i,j)].astype(np.uint8))\n",
    "        cv.waitKey(0)\n",
    "        cv.destroyAllWindows()\n",
    "\n",
    "# generating dogs\n",
    "for i in range(octaves):\n",
    "    for j in range(scales-1):\n",
    "        Dogs[(i,j)]= Container[i,j] - Container[i,j+1]\n",
    "print('Dogs calculated')\n",
    "#imageshowing\n",
    "for i in range(octaves):\n",
    "    for j in range(scales-1):\n",
    "        cv.namedWindow('dogs', cv.WINDOW_NORMAL)\n",
    "        cv.imshow('dogs',Dogs[(i,j)])\n",
    "        cv.waitKey(0)\n",
    "\n",
    "        cv.destroyAllWindows()"
   ]
  },
  {
   "cell_type": "code",
   "execution_count": 4,
   "metadata": {},
   "outputs": [
    {
     "name": "stdout",
     "output_type": "stream",
     "text": [
      "Starting Keypoints\n",
      "Done keypoints\n"
     ]
    }
   ],
   "source": [
    "# import numpy as np\n",
    "# a = np.array([[ 3,  2,  1, 30],\n",
    "#        [40, 20,  1,  0],\n",
    "#        [30,  1, 20, 30],\n",
    "#        [ 1,  6,  2,  3]])\n",
    "# b = np.array([[ 3,  2,  4,  5],\n",
    "#        [ 2,  1, 30, 40],\n",
    "#        [40, 50, 43, 21],\n",
    "#        [ 1,  0,  2,  0]])\n",
    "# c = np.array([[ 2,  3,  4,  3],\n",
    "#        [ 2,  3,  4,  5],\n",
    "#        [ 5,  6,  7,  8],\n",
    "#        [ 6,  5,  4,  3]])\n",
    "# l = {(0,0):a, \n",
    "#       (0,1):b,\n",
    "#       (0,2):c}\n",
    "# octaves = 1\n",
    "# scales = 4\n",
    "Keypoints ={}\n",
    "# Dogs = l\n",
    "print ('Starting Keypoints')\n",
    "for i in range(octaves):\n",
    "    # since dog is 1 less than scales and \n",
    "    # key points would further be 2 less than dogs\n",
    "    for j in range(1, scales-2):\n",
    "        up_scale = Dogs[(i,j+1)]\n",
    "        mid_scale = Dogs[(i,j)]\n",
    "        low_scale = Dogs[(i,j-1)]\n",
    "        \n",
    "        rows, cols = up_scale.shape\n",
    "        for l in range(1, rows-1):\n",
    "            for k in range(1, cols-1):\n",
    "                # checking if a keypt or not\n",
    "                flag = 0\n",
    "                keyPt = mid_scale[l][k]\n",
    "                mx = up_scale[l-1][k-1]\n",
    "                mi = up_scale[l-1][k-1]\n",
    "                # looking up and down\n",
    "                for m in range(l-1, l+2):\n",
    "                    for n in range(k-1, k+2):\n",
    "                        ptup = up_scale[m,n]\n",
    "                        ptlow = low_scale[m,n]\n",
    "                        mx = max(ptup, ptlow, mx)\n",
    "                        mi = min(ptup, ptlow, mi)\n",
    "                        if (keyPt < mx and keyPt > mi):\n",
    "                            flag = 1\n",
    "                            break\n",
    "                    if flag == 1:\n",
    "                            break\n",
    "                            \n",
    "                #looking in mid\n",
    "                for m in range(l-1, l+2):\n",
    "                    for n in range(k-1, k+2):\n",
    "                        # if the keypt condidate itself, ignore\n",
    "                        if not(m == l and n == k):\n",
    "                            ptmid = mid_scale[m,n]\n",
    "                            mx = max(ptmid, mx)\n",
    "                            mi = min(ptmid, mi)\n",
    "                            if (keyPt < mx and keyPt > mi):\n",
    "                                flag = 1\n",
    "                                break\n",
    "                    if flag == 1:\n",
    "                            break\n",
    "\n",
    "                # if keypt is not good, escape\n",
    "                if flag == 0:\n",
    "                    try:\n",
    "                        Keypoints[i,j-1].append((l,k))\n",
    "                    except KeyError:\n",
    "                        Keypoints[i,j-1] = [(l,k)]\n",
    "\n",
    "print(\"Done keypoints\")"
   ]
  },
  {
   "cell_type": "markdown",
   "metadata": {},
   "source": [
    "----\n",
    "\n",
    "# Key Point Detection"
   ]
  },
  {
   "cell_type": "code",
   "execution_count": null,
   "metadata": {
    "scrolled": false
   },
   "outputs": [],
   "source": [
    "#Show Initial KeyPoints \n",
    "for i in range(octaves):\n",
    "    scale = 1./(2**i)\n",
    "    draw = cv.resize(img, None, fx = scale, fy = scale, interpolation = cv.INTER_CUBIC)\n",
    "    for j in range(scales-3):\n",
    "        for key in Keypoints.keys():\n",
    "            for ke in Keypoints[key]:\n",
    "                cv.circle(draw, ke, 5, (0,0,0), 1)\n",
    "    cv.namedWindow('Keypts', cv.WINDOW_NORMAL)\n",
    "    cv.imshow('Keypts',draw)\n",
    "    cv.waitKey(0)\n",
    "    cv.destroyAllWindows()"
   ]
  },
  {
   "cell_type": "code",
   "execution_count": null,
   "metadata": {},
   "outputs": [],
   "source": [
    "for i in range(numofOctaves):\n",
    "    for j in range(numofScales-3):\n",
    "        cv.namedWindow('keyPtsImg', cv.WINDOW_NORMAL)\n",
    "        cv.imshow('keyPtsImg',np.array(keyPtsImg[i][j]).astype(np.uint8))\n",
    "        cv.waitKey(0)\n",
    "        cv.destroyAllWindows()"
   ]
  },
  {
   "cell_type": "markdown",
   "metadata": {},
   "source": [
    "----\n",
    "\n",
    "# Orientation Assignment "
   ]
  },
  {
   "cell_type": "code",
   "execution_count": null,
   "metadata": {},
   "outputs": [],
   "source": [
    "def oriAssign(octaves):\n",
    "    oc = []\n",
    "    for octave in octaves:\n",
    "        sc = []\n",
    "        numofScales = len(octave)\n",
    "        # selecting images corresponding to each\n",
    "        # keypoint matrix\n",
    "        for l in range(2, numofScales-1):\n",
    "            m = findM(octave[l])\n",
    "            sc.append(m)\n",
    "        oc.append(sc)\n",
    "    return oc\n",
    "\n",
    "def findM(scale):\n",
    "    scale = np.array(scale)\n",
    "    scale = hp.padd(scale,1)\n",
    "    rows, cols = scale.shape\n",
    "    r = np.zeros((rows, cols))\n",
    "    for i in range(1, rows-1):\n",
    "        for j in range(1, cols-1):\n",
    "            dx = int(scale[i, j+1]) - scale[i, j-1]\n",
    "            dy = int(scale[i+1, j]) - scale[i-1, j]\n",
    "            r[i,j] = (dx**2 + dy**2)**0.5\n",
    "    return r[1:-1,1:-1].astype(np.uint8).tolist()\n",
    "\n",
    "def thetaAssign(octaves):\n",
    "    oc = []\n",
    "    for octave in octaves:\n",
    "        sc = []\n",
    "        numofScales = len(octave)\n",
    "        # selecting images corresponding to each\n",
    "        # keypoint matrix\n",
    "        for l in range(2, numofScales-1):\n",
    "            theta = findTheta(octave[l])\n",
    "            sc.append(theta)\n",
    "        oc.append(sc)\n",
    "    return oc\n",
    "\n",
    "import math\n",
    "def findTheta(scale):\n",
    "    scale = np.array(scale)\n",
    "    scale = hp.padd(scale,1)\n",
    "    rows, cols = scale.shape\n",
    "    r = np.zeros((rows, cols))\n",
    "    for i in range(1, rows-1):\n",
    "        for j in range(1, cols-1):\n",
    "            dx = int(scale[i, j+1]) - scale[i, j-1] # to avoid underflow\n",
    "            dy = int(scale[i-1, j]) - scale[i+1, j]\n",
    "            t = math.atan2(dy, dx)*180/np.pi\n",
    "            if t < 0:\n",
    "                r[i,j] = t + 360\n",
    "            else:\n",
    "                r[i,j] = t\n",
    "    return r[1:-1,1:-1].tolist()"
   ]
  },
  {
   "cell_type": "markdown",
   "metadata": {},
   "source": [
    "---\n",
    "\n",
    "# Discriptor"
   ]
  },
  {
   "cell_type": "code",
   "execution_count": null,
   "metadata": {},
   "outputs": [],
   "source": [
    "def "
   ]
  },
  {
   "cell_type": "code",
   "execution_count": null,
   "metadata": {},
   "outputs": [],
   "source": []
  },
  {
   "cell_type": "code",
   "execution_count": null,
   "metadata": {},
   "outputs": [],
   "source": []
  },
  {
   "cell_type": "code",
   "execution_count": null,
   "metadata": {},
   "outputs": [],
   "source": [
    "#demo\n",
    "l = [[[[ 3,  2,  1, 30],\n",
    "       [40, 20,  1,  0],\n",
    "       [30,  1, 20, 30],\n",
    "       [ 1,  6,  2,  3]],\n",
    "      [[ 3,  2,  4,  5],\n",
    "       [ 2,  1, 30, 40],\n",
    "       [40, 50, 43, 21],\n",
    "       [ 1,  0,  2,  0]],\n",
    "      [[ 2,  3,  4,  3],\n",
    "       [ 2,  3,  4,  5],\n",
    "       [ 5,  6,  7,  8],\n",
    "       [ 6,  5,  4,  3]]],\n",
    "     [[[ 3,  2,  1, 30],\n",
    "       [40, 20,  1,  0],\n",
    "       [30,  1, 20, 30],\n",
    "       [ 1,  6,  2,  3]],\n",
    "      [[ 3,  2,  4,  5],\n",
    "       [ 2,  1, 30, 40],\n",
    "       [40, 50, 43, 21],\n",
    "       [ 1,  0,  2,  0]],\n",
    "      [[ 2,  3,  4,  3],\n",
    "       [ 2,  3,  4,  5],\n",
    "       [ 5,  6,  7,  8],\n",
    "       [ 6,  5,  4,  3]]]]"
   ]
  },
  {
   "cell_type": "code",
   "execution_count": null,
   "metadata": {},
   "outputs": [],
   "source": [
    "pkey = {}\n",
    "print(np.array(keyPointDetect(pkey, l)))\n",
    "print(pkey)"
   ]
  },
  {
   "cell_type": "markdown",
   "metadata": {},
   "source": [
    "testing below"
   ]
  },
  {
   "cell_type": "code",
   "execution_count": null,
   "metadata": {},
   "outputs": [],
   "source": [
    "c[0][0]"
   ]
  },
  {
   "cell_type": "code",
   "execution_count": null,
   "metadata": {},
   "outputs": [],
   "source": [
    "findM(c[0][0])"
   ]
  },
  {
   "cell_type": "code",
   "execution_count": null,
   "metadata": {},
   "outputs": [],
   "source": [
    "np.array(findTheta(c[0][0]))"
   ]
  },
  {
   "cell_type": "code",
   "execution_count": null,
   "metadata": {},
   "outputs": [],
   "source": [
    "m = oriAssign(c)\n",
    "theta = thetaAssign(c)\n",
    "print (np.array(m[0][0]))\n",
    "print (np.array(theta[0][0]))"
   ]
  },
  {
   "cell_type": "markdown",
   "metadata": {},
   "source": [
    "### bucketing"
   ]
  },
  {
   "cell_type": "code",
   "execution_count": null,
   "metadata": {},
   "outputs": [],
   "source": [
    "Orientation(c, l, m, theta)"
   ]
  },
  {
   "cell_type": "code",
   "execution_count": null,
   "metadata": {},
   "outputs": [],
   "source": [
    "def Orientation(octaves, keypts, m, theta, k=2**.5, sigma=1):\n",
    "    r=[]\n",
    "    for i in range(len(octaves)):\n",
    "        m_oc = m[i]\n",
    "        theta_oc = theta[i]\n",
    "        keypts_oc = keypts[i]\n",
    "        octave = octaves[i]\n",
    "        er = []\n",
    "        for j in range(2, len(octave)-1):\n",
    "            newsigma = k**(2*i + j)*sigma\n",
    "            m_sc = m_oc[j-2]\n",
    "            theta_sc = theta_oc[j-2]\n",
    "            keypts_sc = keypts_oc[j-2]\n",
    "            scale=octave[j]\n",
    "            er.append(Keyslicer(m_sc,theta_sc,keypts_sc,scale, newsigma))\n",
    "        r.append(er)\n",
    "    return r\n",
    "        \n",
    "def Keyslicer(m, theta, keypts, scale, newsigma):\n",
    "    scale = hp.padd(np.array(scale), 1)\n",
    "    rows, cols = scale.shape\n",
    "    r = np.empty((rows,cols), dtype=object)\n",
    "    # asssumtion ignoring the first 16\n",
    "    for i in range(8, rows-7):\n",
    "        for j in range(8, cols-7):\n",
    "            if keypts[i][j] == 1:\n",
    "                m_slice = np.array(m)[i-8:i+8]\n",
    "                theta_slice = np.array(theta)[i-8:i+8]\n",
    "                r[i,j]=bucketsToStrength(m_slice, theta_slice, newsigma)\n",
    "    return r[1:-1,1:-1]\n",
    "\n",
    "def bucketsToStrength(m_slice, theta_slice, newsigma):\n",
    "    g = hp.gaussian_nor(16, newsigma)\n",
    "    mg = np.dot(m_slice, g)\n",
    "    # getting the histogram\n",
    "    buckets=[]\n",
    "    for i in range(36):\n",
    "        buckets.append([])\n",
    "    for i in range(16):\n",
    "        for j in range(16):\n",
    "            buckets[m_slice[i][j]//10].append([i,j])\n",
    "    \n",
    "    '''\n",
    "    getting the max in the histogram but if\n",
    "    we have multiple buckets with max values,\n",
    "    i take the convention of selecting only first\n",
    "    one\n",
    "    '''\n",
    "    max_bucket = []\n",
    "    bucket_i = 0\n",
    "    for i in range(36):\n",
    "        if len(buckets[i]) > len(max_bucket):\n",
    "            max_bucket = buckets[i]\n",
    "            bucket_i = i\n",
    "            \n",
    "    m_key = 0\n",
    "    for point in max_bucket:\n",
    "        m_key += m_slice[point[0], point[1]] # to avoid overflow\n",
    "    return [bucket_i*10 + 5, m_key]"
   ]
  },
  {
   "cell_type": "code",
   "execution_count": null,
   "metadata": {},
   "outputs": [],
   "source": []
  },
  {
   "cell_type": "markdown",
   "metadata": {},
   "source": [
    "---\n",
    "\n",
    "# Descriptor"
   ]
  },
  {
   "cell_type": "code",
   "execution_count": null,
   "metadata": {},
   "outputs": [],
   "source": []
  }
 ],
 "metadata": {
  "kernelspec": {
   "display_name": "Python 3",
   "language": "python",
   "name": "python3"
  },
  "language_info": {
   "codemirror_mode": {
    "name": "ipython",
    "version": 3
   },
   "file_extension": ".py",
   "mimetype": "text/x-python",
   "name": "python",
   "nbconvert_exporter": "python",
   "pygments_lexer": "ipython3",
   "version": "3.7.0"
  }
 },
 "nbformat": 4,
 "nbformat_minor": 2
}
